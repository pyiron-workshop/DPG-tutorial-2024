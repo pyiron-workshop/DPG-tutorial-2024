{
 "cells": [
  {
   "cell_type": "markdown",
   "id": "b58fa431-18d0-444c-a0c0-b07d8f70fbb4",
   "metadata": {},
   "source": [
    "# Exercise 3: Visualizing Training Data"
   ]
  },
  {
   "cell_type": "markdown",
   "id": "7077098d-6b6b-47ed-88a6-1d18133fab7f",
   "metadata": {},
   "source": [
    "You'll need to run the Unpack.ipynb notebook before this one!"
   ]
  },
  {
   "cell_type": "markdown",
   "id": "9e785fb5-81c3-4608-bc8f-e159c366c82a",
   "metadata": {},
   "source": [
    "## Setup"
   ]
  },
  {
   "cell_type": "code",
   "execution_count": 1,
   "id": "ee1d8390-7d8c-4306-a6d0-31c87ee40fcb",
   "metadata": {},
   "outputs": [],
   "source": [
    "from pyiron import Project\n",
    "import matplotlib.pyplot as plt\n",
    "import numpy as np\n",
    "import seaborn as sns"
   ]
  },
  {
   "cell_type": "code",
   "execution_count": 2,
   "id": "0415ea7a-509d-4473-8365-ca31568a555a",
   "metadata": {},
   "outputs": [],
   "source": [
    "plt.rc('figure', figsize=(16,8))\n",
    "plt.rc('font', size=18)"
   ]
  },
  {
   "cell_type": "code",
   "execution_count": 3,
   "id": "dc7814d6-8fcf-46cc-bdbf-efd01748fa2f",
   "metadata": {},
   "outputs": [],
   "source": [
    "pr = Project('training')"
   ]
  },
  {
   "cell_type": "code",
   "execution_count": 4,
   "id": "4a0e908e-de03-414a-b998-ac8ba12410a1",
   "metadata": {},
   "outputs": [
    {
     "data": {
      "text/html": [
       "<div>\n",
       "<style scoped>\n",
       "    .dataframe tbody tr th:only-of-type {\n",
       "        vertical-align: middle;\n",
       "    }\n",
       "\n",
       "    .dataframe tbody tr th {\n",
       "        vertical-align: top;\n",
       "    }\n",
       "\n",
       "    .dataframe thead th {\n",
       "        text-align: right;\n",
       "    }\n",
       "</style>\n",
       "<table border=\"1\" class=\"dataframe\">\n",
       "  <thead>\n",
       "    <tr style=\"text-align: right;\">\n",
       "      <th></th>\n",
       "      <th>id</th>\n",
       "      <th>status</th>\n",
       "      <th>chemicalformula</th>\n",
       "      <th>job</th>\n",
       "      <th>subjob</th>\n",
       "      <th>projectpath</th>\n",
       "      <th>project</th>\n",
       "      <th>timestart</th>\n",
       "      <th>timestop</th>\n",
       "      <th>totalcputime</th>\n",
       "      <th>computer</th>\n",
       "      <th>hamilton</th>\n",
       "      <th>hamversion</th>\n",
       "      <th>parentid</th>\n",
       "      <th>masterid</th>\n",
       "    </tr>\n",
       "  </thead>\n",
       "  <tbody>\n",
       "    <tr>\n",
       "      <th>2</th>\n",
       "      <td>17168587</td>\n",
       "      <td>finished</td>\n",
       "      <td>None</td>\n",
       "      <td>full</td>\n",
       "      <td>/full</td>\n",
       "      <td>/cmmc/u/</td>\n",
       "      <td>zora/pyiron/projects/2022/POTENTIALS/TutorialNotebooks/workshop_preparation/introduction/training/</td>\n",
       "      <td>2022-06-03 00:02:34.816533</td>\n",
       "      <td>None</td>\n",
       "      <td>None</td>\n",
       "      <td>zora@cmti001#1</td>\n",
       "      <td>TrainingContainer</td>\n",
       "      <td>0.4</td>\n",
       "      <td>None</td>\n",
       "      <td>None</td>\n",
       "    </tr>\n",
       "    <tr>\n",
       "      <th>0</th>\n",
       "      <td>17168588</td>\n",
       "      <td>finished</td>\n",
       "      <td>None</td>\n",
       "      <td>basic</td>\n",
       "      <td>/basic</td>\n",
       "      <td>/cmmc/u/</td>\n",
       "      <td>zora/pyiron/projects/2022/POTENTIALS/TutorialNotebooks/workshop_preparation/introduction/training/</td>\n",
       "      <td>2022-06-03 00:02:47.281055</td>\n",
       "      <td>None</td>\n",
       "      <td>None</td>\n",
       "      <td>zora@cmti001#1</td>\n",
       "      <td>TrainingContainer</td>\n",
       "      <td>0.4</td>\n",
       "      <td>None</td>\n",
       "      <td>None</td>\n",
       "    </tr>\n",
       "    <tr>\n",
       "      <th>1</th>\n",
       "      <td>17168589</td>\n",
       "      <td>finished</td>\n",
       "      <td>None</td>\n",
       "      <td>Al_basic_atomicrex</td>\n",
       "      <td>/Al_basic_atomicrex</td>\n",
       "      <td>/cmmc/u/</td>\n",
       "      <td>zora/pyiron/projects/2022/POTENTIALS/TutorialNotebooks/workshop_preparation/introduction/training/</td>\n",
       "      <td>2022-06-03 00:02:48.226369</td>\n",
       "      <td>None</td>\n",
       "      <td>None</td>\n",
       "      <td>zora@cmti001#1</td>\n",
       "      <td>TrainingContainer</td>\n",
       "      <td>0.4</td>\n",
       "      <td>None</td>\n",
       "      <td>None</td>\n",
       "    </tr>\n",
       "  </tbody>\n",
       "</table>\n",
       "</div>"
      ],
      "text/plain": [
       "         id    status chemicalformula                 job  \\\n",
       "2  17168587  finished            None                full   \n",
       "0  17168588  finished            None               basic   \n",
       "1  17168589  finished            None  Al_basic_atomicrex   \n",
       "\n",
       "                subjob projectpath  \\\n",
       "2                /full    /cmmc/u/   \n",
       "0               /basic    /cmmc/u/   \n",
       "1  /Al_basic_atomicrex    /cmmc/u/   \n",
       "\n",
       "                                                                                              project  \\\n",
       "2  zora/pyiron/projects/2022/POTENTIALS/TutorialNotebooks/workshop_preparation/introduction/training/   \n",
       "0  zora/pyiron/projects/2022/POTENTIALS/TutorialNotebooks/workshop_preparation/introduction/training/   \n",
       "1  zora/pyiron/projects/2022/POTENTIALS/TutorialNotebooks/workshop_preparation/introduction/training/   \n",
       "\n",
       "                   timestart timestop totalcputime        computer  \\\n",
       "2 2022-06-03 00:02:34.816533     None         None  zora@cmti001#1   \n",
       "0 2022-06-03 00:02:47.281055     None         None  zora@cmti001#1   \n",
       "1 2022-06-03 00:02:48.226369     None         None  zora@cmti001#1   \n",
       "\n",
       "            hamilton hamversion parentid masterid  \n",
       "2  TrainingContainer        0.4     None     None  \n",
       "0  TrainingContainer        0.4     None     None  \n",
       "1  TrainingContainer        0.4     None     None  "
      ]
     },
     "execution_count": 4,
     "metadata": {},
     "output_type": "execute_result"
    }
   ],
   "source": [
    "pr.job_table()"
   ]
  },
  {
   "cell_type": "markdown",
   "id": "1ff50d46-c4f9-440a-bc88-5a8fec27d4f7",
   "metadata": {},
   "source": [
    "## Loading Container"
   ]
  },
  {
   "cell_type": "code",
   "execution_count": 5,
   "id": "a0ebcdf7-3ac8-4359-8840-1036ee3388b8",
   "metadata": {},
   "outputs": [],
   "source": [
    "container = pr.load('basic')"
   ]
  },
  {
   "cell_type": "markdown",
   "id": "f95792b0-f5b6-450b-b08c-f67ba45e060b",
   "metadata": {},
   "source": [
    "## Some Predefined Plots"
   ]
  },
  {
   "cell_type": "markdown",
   "id": "ad795198-d689-4b2e-96dc-9e9b4b687aa6",
   "metadata": {},
   "source": [
    "### Cell Information"
   ]
  },
  {
   "cell_type": "code",
   "execution_count": null,
   "id": "e91af194-919e-4268-8f15-56106bd2748b",
   "metadata": {},
   "outputs": [
    {
     "data": {
      "image/png": "[encoded data removed]",
      "text/plain": [
       "<Figure size 432x288 with 4 Axes>"
      ]
     },
     "metadata": {
      "needs_background": "light"
     },
     "output_type": "display_data"
    }
   ],
   "source": [
    "container.plot.cell();"
   ]
  },
  {
   "cell_type": "markdown",
   "id": "3353c813-426c-4532-8b57-74500ecb4373",
   "metadata": {},
   "source": [
    "### Cell Symmetries"
   ]
  },
  {
   "cell_type": "code",
   "execution_count": 7,
   "id": "deb03a6b-cf55-44cb-b47e-050f4ff2b997",
   "metadata": {},
   "outputs": [
    {
     "data": {
      "image/png": "[encoded data removed]",
      "text/plain": [
       "<Figure size 432x288 with 2 Axes>"
      ]
     },
     "metadata": {
      "needs_background": "light"
     },
     "output_type": "display_data"
    }
   ],
   "source": [
    "container.plot.spacegroups();"
   ]
  },
  {
   "cell_type": "markdown",
   "id": "10131a1b-3d2e-4b5e-8f8f-993256a0486c",
   "metadata": {},
   "source": [
    "### E-V Curves"
   ]
  },
  {
   "cell_type": "code",
   "execution_count": 8,
   "id": "70e779bf-296a-4843-ad12-127c389337e1",
   "metadata": {},
   "outputs": [
    {
     "data": {
      "image/png": "[encoded data removed]",
      "text/plain": [
       "<Figure size 432x288 with 1 Axes>"
      ]
     },
     "metadata": {
      "needs_background": "light"
     },
     "output_type": "display_data"
    }
   ],
   "source": [
    "container.plot.energy_volume();"
   ]
  },
  {
   "cell_type": "markdown",
   "id": "28c73c13-37b6-46fd-80ce-8cbfe4f5ab0f",
   "metadata": {},
   "source": [
    "### Custom Plots from Data"
   ]
  },
  {
   "cell_type": "code",
   "execution_count": 9,
   "id": "c3521262-079a-45b7-b50f-43578068e3ac",
   "metadata": {},
   "outputs": [],
   "source": [
    "df = container.to_pandas()"
   ]
  },
  {
   "cell_type": "markdown",
   "id": "734ab66b-1725-41b0-a96a-d25049469167",
   "metadata": {},
   "source": [
    "### E-V by Concentration"
   ]
  },
  {
   "cell_type": "code",
   "execution_count": 10,
   "id": "55049592-b4b7-48a3-8f80-f6bc2a0ac3bc",
   "metadata": {},
   "outputs": [],
   "source": [
    "df['concentration'] = df.atoms.map(lambda s: (s.get_chemical_symbols()=='Li').mean())"
   ]
  },
  {
   "cell_type": "code",
   "execution_count": 11,
   "id": "552bd06b-39ff-40ac-96e9-bf171a21c588",
   "metadata": {},
   "outputs": [],
   "source": [
    "df['energy_atom'] = (df.energy / df.number_of_atoms)"
   ]
  },
  {
   "cell_type": "code",
   "execution_count": 12,
   "id": "e2f40ee4-818f-4e40-84b6-7844fca037a7",
   "metadata": {},
   "outputs": [],
   "source": [
    "df['volume_atom'] = df.atoms.map(lambda s: s.get_volume(per_atom=True))"
   ]
  },
  {
   "cell_type": "code",
   "execution_count": 13,
   "id": "483e90a9-c4a6-4ec6-aba3-c017450e08e9",
   "metadata": {},
   "outputs": [
    {
     "data": {
      "text/plain": [
       "<matplotlib.legend.Legend at 0x1502c1833a60>"
      ]
     },
     "execution_count": 13,
     "metadata": {},
     "output_type": "execute_result"
    },
    {
     "data": {
      "image/png": "[encoded data removed]",
      "text/plain": [
       "<Figure size 432x288 with 1 Axes>"
      ]
     },
     "metadata": {
      "needs_background": "light"
     },
     "output_type": "display_data"
    }
   ],
   "source": [
    "sns.scatterplot(\n",
    "    data=df,\n",
    "    x='volume_atom',\n",
    "    y='energy_atom',\n",
    "    hue='concentration'\n",
    ")\n",
    "plt.xlabel(r'Atomic Volume [$\\mathrm{\\AA}^3$/atom')\n",
    "plt.ylabel(r'Atomic Energy [eV/atom]')\n",
    "plt.legend(title='Li')"
   ]
  },
  {
   "cell_type": "markdown",
   "id": "8f53c741-75ee-4847-82ac-1640c045b144",
   "metadata": {},
   "source": [
    "### Convex Hull"
   ]
  },
  {
   "cell_type": "markdown",
   "id": "344b6061-09ca-4175-988a-05b1b2f08e2d",
   "metadata": {},
   "source": [
    "First find the equilibrium energy at the terminal concentrations."
   ]
  },
  {
   "cell_type": "code",
   "execution_count": 14,
   "id": "7f68739c-1f55-45a3-80aa-16bb081aac08",
   "metadata": {},
   "outputs": [
    {
     "name": "stdout",
     "output_type": "stream",
     "text": [
      "-3.4827513025 -1.757035875\n"
     ]
    }
   ],
   "source": [
    "e_min_al = df.query('concentration == 0').energy_atom.min()\n",
    "e_min_li = df.query('concentration == 1').energy_atom.min()\n",
    "print(e_min_al, e_min_li)"
   ]
  },
  {
   "cell_type": "markdown",
   "id": "759447cb-8cef-4b87-8da0-c46db64ecd30",
   "metadata": {},
   "source": [
    "Next calculate the deviation to the \"ideal\" mixing enthalpy\n",
    "\n",
    "$$\n",
    "e(c_\\mathrm{Li}) = e_\\mathrm{Al} + c_\\mathrm{Li} (e_\\mathrm{Li} - e_\\mathrm{Al})\n",
    "$$\n",
    "\n",
    "and call that the energy excess, where $e$ are the per atom equilibrium energies of the pure phases."
   ]
  },
  {
   "cell_type": "code",
   "execution_count": 15,
   "id": "efcac90d-abcc-423f-ae19-0b5ad763f897",
   "metadata": {},
   "outputs": [],
   "source": [
    "df['energy_atom_excess'] = df.energy_atom - df.concentration * (e_min_li - e_min_al) - e_min_al"
   ]
  },
  {
   "cell_type": "code",
   "execution_count": 16,
   "id": "7c309e2f-f9f9-4098-8332-c845cf621619",
   "metadata": {},
   "outputs": [
    {
     "data": {
      "text/plain": [
       "Text(0, 0.5, 'Excess Energy [eV/atom]')"
      ]
     },
     "execution_count": 16,
     "metadata": {},
     "output_type": "execute_result"
    },
    {
     "data": {
      "image/png": "[encoded data removed]",
      "text/plain": [
       "<Figure size 432x288 with 1 Axes>"
      ]
     },
     "metadata": {
      "needs_background": "light"
     },
     "output_type": "display_data"
    }
   ],
   "source": [
    "sns.lineplot(data=df,\n",
    "             marker='o',\n",
    "             x='concentration', y='energy_atom_excess',\n",
    "             estimator=np.min)\n",
    "plt.scatter(df.concentration, df.energy_atom_excess, marker='.')\n",
    "plt.ylim(df.energy_atom_excess.min() * 1.2, .4)\n",
    "plt.xlabel('Li concentration')\n",
    "plt.ylabel('Excess Energy [eV/atom]')"
   ]
  },
  {
   "cell_type": "markdown",
   "id": "0690c44c-6c2c-4b23-888a-950eb510bffd",
   "metadata": {},
   "source": [
    "## Extra Credit\n",
    "\n",
    "1. Plot the energy against smallest nearest neighbor distance in a structure.  You can get the neighbor information with the [get_neighbor method](https://pyiron-atomistics.readthedocs.io/en/latest/apidoc/pyiron_atomistics.atomistics.structure.atoms.html?highlight=Atoms.get_neighbors#pyiron_atomistics.atomistics.structure.atoms.Atoms.get_neighbors) on a structure."
   ]
  },
  {
   "cell_type": "code",
   "execution_count": null,
   "id": "a917ba97-57c3-48ec-ae3c-bb6cf6191902",
   "metadata": {},
   "outputs": [],
   "source": []
  }
 ],
 "metadata": {
  "kernelspec": {
   "display_name": "Python 3 (ipykernel)",
   "language": "python",
   "name": "python3"
  },
  "language_info": {
   "codemirror_mode": {
    "name": "ipython",
    "version": 3
   },
   "file_extension": ".py",
   "mimetype": "text/x-python",
   "name": "python",
   "nbconvert_exporter": "python",
   "pygments_lexer": "ipython3",
   "version": "3.10.12"
  },
  "widgets": {
   "application/vnd.jupyter.widget-state+json": {
    "state": {},
    "version_major": 2,
    "version_minor": 0
   }
  }
 },
 "nbformat": 4,
 "nbformat_minor": 5
}
