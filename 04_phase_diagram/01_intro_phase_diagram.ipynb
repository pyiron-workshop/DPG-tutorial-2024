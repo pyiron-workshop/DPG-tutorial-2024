{
 "cells": [
  {
   "cell_type": "markdown",
   "id": "952ab636-d9d7-4109-82e5-3c40db61dda9",
   "metadata": {},
   "source": [
    "# <font style=\"font-family:roboto;color:#455e6c\"> Phase diagrams and how to calculate them </font>  "
   ]
  },
  {
   "cell_type": "markdown",
   "id": "34e2ec07-4cc4-4743-9e31-4b445fa62332",
   "metadata": {},
   "source": [
    "In this notebook, we will use the interatomic potentials for calculation of thermodynamic properties such as Helmholtz and Gibbs free energies, which in turn can be used for the calculation of phase diagrams. We will discuss [calphy](https://calphy.org/), the tool for automated calculation of free energies, and the methology involved."
   ]
  },
  {
   "cell_type": "markdown",
   "id": "6fa9c16f-c7ed-4c52-ad16-fee5b23871a9",
   "metadata": {},
   "source": [
    "## <font style=\"font-family:roboto;color:#455e6c\"> A simple phase diagram </font> "
   ]
  },
  {
   "cell_type": "markdown",
   "id": "b2f72dca-951e-4b69-8bda-86d8b7327de2",
   "metadata": {},
   "source": [
    "<img src=\"img/phase_dia_1.png\" width=\"40%\">"
   ]
  },
  {
   "cell_type": "markdown",
   "id": "5388e65f-9981-4dfa-bd26-244325dc1811",
   "metadata": {},
   "source": [
    "Phase diagrams provide a wealth of information such as: coexisting lines, melting temperature, phase stability, nucleation mechanism."
   ]
  },
  {
   "cell_type": "markdown",
   "id": "27d7ec21-8ea4-4256-9239-1172abaf969d",
   "metadata": {},
   "source": [
    "## <font style=\"font-family:roboto;color:#455e6c\"> Calculation of phase diagrams: the essential ingredients </font> "
   ]
  },
  {
   "cell_type": "markdown",
   "id": "89557b16-e094-4871-9ea0-e7c2be7089f1",
   "metadata": {},
   "source": [
    "<img src=\"img/cimg4.png\" width=\"30%\">"
   ]
  },
  {
   "cell_type": "markdown",
   "id": "a3b31a91-4a2e-41ce-a28e-96343d827b32",
   "metadata": {},
   "source": [
    "Phase diagrams can be evaluated from free energy diagrams. The required input are:\n",
    "- $G(P, T)$ for unary systems\n",
    "- $G(x, T)$ for binary systems\n",
    "\n",
    "To calculate this, we employ thermodynamic integration, in conjuction with a number of methodological improvements."
   ]
  },
  {
   "cell_type": "markdown",
   "id": "38f06322-f6b7-4166-9798-496891cc3f69",
   "metadata": {},
   "source": [
    "<div class=\"admonition note\" name=\"html-admonition\" style=\"background: #FFEDD1; padding: 10px\">\n",
    "<p class=\"title\"><b>Theory behind free energy calculation </b></p>\n",
    "Please see the end of this notebook, or  <a href=\"https://journals.aps.org/prmaterials/abstract/10.1103/PhysRevMaterials.5.103801\">this publication</a> for a longer discussion on the theory and algorithms.\n",
    "</div>"
   ]
  },
  {
   "cell_type": "markdown",
   "id": "0afd2508-1359-41e4-a3b6-f47295491fd8",
   "metadata": {},
   "source": [
    "Start with imports"
   ]
  },
  {
   "cell_type": "code",
   "execution_count": null,
   "id": "e1f39a43-b4f6-4264-99b6-c0eb376a3bf4",
   "metadata": {},
   "outputs": [],
   "source": [
    "from pyiron_atomistics import Project\n",
    "import matplotlib.pyplot as plt\n",
    "import numpy as np"
   ]
  },
  {
   "cell_type": "code",
   "execution_count": null,
   "id": "2c14f165-efa2-4998-9553-324bcbc7ad26",
   "metadata": {},
   "outputs": [],
   "source": [
    "pr = Project('thermodynamics') "
   ]
  },
  {
   "cell_type": "markdown",
   "id": "ba90cd4e-b2d5-4f5e-bf44-faa001fb163b",
   "metadata": {},
   "source": [
    "Due to our limited time, we will show the calculation of melting temperature, the end point on the phase diagram. For a detailed tutorial, see [here](https://workshop.pyiron.org/potentials-workshop-2022/phase_diagram/Intro.html)."
   ]
  },
  {
   "cell_type": "markdown",
   "id": "d4e663de-4963-466c-a018-5e1bc1d6943e",
   "metadata": {},
   "source": [
    "## <font style=\"font-family:roboto;color:#455e6c\"> Calculation of melting temperature </font> "
   ]
  },
  {
   "cell_type": "markdown",
   "id": "03d20508-c680-4a4f-8709-3d58d6c10e9b",
   "metadata": {},
   "source": [
    "### <font style=\"font-family:roboto;color:#455e6c\"> Solid free energy </font> "
   ]
  },
  {
   "cell_type": "code",
   "execution_count": null,
   "id": "df6e991a-1078-4732-99a4-03f20d4e93de",
   "metadata": {},
   "outputs": [],
   "source": [
    "al_sol = pr.create.job.Calphy(\"Al_fcc\", \n",
    "                              delete_aborted_job=True, \n",
    "                              delete_existing_job=True)"
   ]
  },
  {
   "cell_type": "markdown",
   "id": "06065307-0912-4c83-a232-650df34c3ef2",
   "metadata": {},
   "source": [
    "There are a number of input the job can take. We can gain some information about the job from the docstrings."
   ]
  },
  {
   "cell_type": "code",
   "execution_count": null,
   "id": "43706000-680e-4310-9b33-f799285bcf52",
   "metadata": {},
   "outputs": [],
   "source": [
    "structure = pr.create.structure.ase.bulk('Al', cubic=True).repeat(4)"
   ]
  },
  {
   "cell_type": "code",
   "execution_count": null,
   "id": "fbcc45e3-8c80-4477-af4e-a403f61f13da",
   "metadata": {},
   "outputs": [],
   "source": [
    "structure.plot3d()"
   ]
  },
  {
   "cell_type": "code",
   "execution_count": null,
   "id": "26ec59b8-430c-4321-a675-a4d79d3dc163",
   "metadata": {},
   "outputs": [],
   "source": [
    "al_sol.structure = structure"
   ]
  },
  {
   "cell_type": "code",
   "execution_count": null,
   "id": "16e187ea-577f-4073-9e04-c1869311c046",
   "metadata": {},
   "outputs": [],
   "source": [
    "al_sol.list_potentials()"
   ]
  },
  {
   "cell_type": "code",
   "execution_count": null,
   "id": "e61d678b-6738-482a-a3c7-8d0d311a0d75",
   "metadata": {},
   "outputs": [],
   "source": [
    "al_sol.potential = '2009--Mendelev-M-I--Al-Mg--LAMMPS--ipr1'"
   ]
  },
  {
   "cell_type": "code",
   "execution_count": null,
   "id": "297d8141-f67d-4f10-8929-8de0bc348d4e",
   "metadata": {},
   "outputs": [],
   "source": [
    "al_sol.server.cores = 4"
   ]
  },
  {
   "cell_type": "code",
   "execution_count": null,
   "id": "a125c6ee-6d77-4abc-b5af-b79dd28e2aa2",
   "metadata": {},
   "outputs": [],
   "source": [
    "al_sol.input.equilibration_control = 'berendsen'"
   ]
  },
  {
   "cell_type": "code",
   "execution_count": null,
   "id": "711ac09a-73eb-477d-bab2-213d97860b44",
   "metadata": {},
   "outputs": [],
   "source": [
    "al_sol.calc_free_energy(temperature=[800, 1100], \n",
    "                     pressure=0, \n",
    "                     reference_phase=\"solid\",\n",
    "                     n_equilibration_steps=5000,\n",
    "                     n_switching_steps=5000)"
   ]
  },
  {
   "cell_type": "markdown",
   "id": "a7f23881-2adb-4889-b2d4-b923bf4c9a28",
   "metadata": {},
   "source": [
    "Before we actually run the calculation, let us discuss the various parameters. `temperature` keyword gives the temperature range over which the free energy is to be calculated. Since we provide `500`, the free energy is calculated at this temperature. `pressure` denotes the pressure of the calculation, we chose 0 in this case. Since we are using a solid FCC lattice, we set `reference_phase` to `\"solid\"`. This means that the Einstein crystal will be used as the reference system. Finally, we have `n_equilibration_steps` and `n_switching_steps`. `n_equilibration_steps` denotes the number of MD steps over which the system is equilibrated to the required temperature and pressure. `n_switching_steps` are the number of MD steps over which the system is continuously transformed between the given interatomic potential, and the reference Einstein crystal."
   ]
  },
  {
   "cell_type": "markdown",
   "id": "9a175417-661b-4c5a-b566-3aebedaa4c45",
   "metadata": {},
   "source": [
    "Now we can actually run the calculation"
   ]
  },
  {
   "cell_type": "code",
   "execution_count": null,
   "id": "2d9d9b50-997e-4355-9b0d-97112c8d1070",
   "metadata": {},
   "outputs": [],
   "source": [
    "al_sol.run()"
   ]
  },
  {
   "cell_type": "markdown",
   "id": "381e8bc3-c6f1-4668-9e7d-2c4658f7be0c",
   "metadata": {},
   "source": [
    "### <font style=\"font-family:roboto;color:#455e6c\"> Liquid free energy </font> "
   ]
  },
  {
   "cell_type": "code",
   "execution_count": null,
   "id": "8f6f4439-6155-479c-aaac-6228b0239dbb",
   "metadata": {},
   "outputs": [],
   "source": [
    "al_lqd = pr.create.job.Calphy(\"Al_lqd\", delete_aborted_job=True)\n",
    "al_lqd.structure = structure\n",
    "al_lqd.potential = '2009--Mendelev-M-I--Al-Mg--LAMMPS--ipr1'\n",
    "al_lqd.server.cores = 4\n",
    "al_lqd.calc_free_energy(temperature=[800, 1100], \n",
    "                     pressure=0, \n",
    "                     reference_phase=\"liquid\",\n",
    "                     n_equilibration_steps=5000,\n",
    "                     n_switching_steps=5000)\n",
    "al_lqd.run()"
   ]
  },
  {
   "cell_type": "markdown",
   "id": "d108b233-33a4-455f-97db-4d0d2df000e4",
   "metadata": {},
   "source": [
    "Finally, the results"
   ]
  },
  {
   "cell_type": "code",
   "execution_count": null,
   "id": "c133fad7-b4bc-472d-bfd5-ad702d80f30c",
   "metadata": {},
   "outputs": [],
   "source": [
    "plt.plot(al_sol.output.temperature, al_sol.output.energy_free,\n",
    "        label=\"Al solid\", color='#C62828')\n",
    "plt.plot(al_lqd.output.temperature, al_lqd.output.energy_free,\n",
    "        label=\"Al liquid\", color='#006899')\n",
    "plt.xlabel(\"Temperature (K)\")\n",
    "plt.ylabel(\"Free energy (eV/K)\")\n",
    "plt.legend();"
   ]
  },
  {
   "cell_type": "markdown",
   "id": "67b8f2c3-12db-436c-b6fd-ea90d3d24fd5",
   "metadata": {},
   "source": [
    "Please check out the sections below for more detailed discussions..."
   ]
  },
  {
   "cell_type": "markdown",
   "id": "e82f170d-fa2b-4090-a8ea-3e4c20c82769",
   "metadata": {},
   "source": [
    "## <font style=\"color:#455e6c\" face=\"Helvetica\" > Calculation of free energies: Thermodynamic integration </font>"
   ]
  },
  {
   "cell_type": "markdown",
   "id": "d83e7c78-2b48-4e37-872b-b194bd3e28b6",
   "metadata": {},
   "source": [
    "<img src=\"img/fig1.png\" width=\"1000\">"
   ]
  },
  {
   "cell_type": "markdown",
   "id": "4d9e6a7e-d2e5-4935-b98d-563877d40ec8",
   "metadata": {},
   "source": [
    "- free energy of reference system are known: Einstein crystal, [Uhlenbeck-Ford model](https://doi.org/10.1063/1.4967775)\n",
    "- the two systems are coupled by \n",
    "$$\n",
    "H(\\lambda) = \\lambda H_f + (1-\\lambda)\\lambda H_i\n",
    "$$\n",
    "- Run calculations for each $\\lambda$ and integrate \n",
    "$$\n",
    "G_f = G_i + \\int_{\\lambda=0}^1 d\\lambda \\bigg \\langle  \\frac{\\partial H(\\lambda)}{\\partial \\lambda } \\bigg \\rangle\n",
    "$$"
   ]
  },
  {
   "cell_type": "markdown",
   "id": "f77c1270-6a42-47b7-8be1-5de091cf2e8a",
   "metadata": {},
   "source": [
    "To calculate $F$,\n",
    "\n",
    "- for each phase\n",
    "    - for each pressure\n",
    "        - for each temperature\n",
    "            - for each $\\lambda$\n",
    "\n",
    "If we choose 100 different $\\lambda$ values; 100 calculations are needed for each temperature and pressure! \n",
    "\n",
    "**Dimensionality: (phase, $P$, $T$, $\\lambda$)**"
   ]
  },
  {
   "cell_type": "markdown",
   "id": "031055ff-8aad-4f56-94c9-80746a50e8af",
   "metadata": {},
   "source": [
    "## <font style=\"color:#455e6c\" face=\"Helvetica\" > Speeding things up: Non-equilibrium calculations </font>"
   ]
  },
  {
   "cell_type": "markdown",
   "id": "95de2dd3-1133-4ba9-81a5-64fe0d3aab29",
   "metadata": {},
   "source": [
    "##### Non-Equilibrium Hamiltonian Interpolation\n",
    "\n",
    "<img src=\"img/cimg5.png\" width=\"600\">"
   ]
  },
  {
   "cell_type": "markdown",
   "id": "2c6adae1-df9d-43d9-9cf0-dd27bc0c5797",
   "metadata": {},
   "source": [
    "In this method:\n",
    "\n",
    "- Discrete $\\lambda$ parameter is replaced by a time dependent $\\lambda(t)$\n",
    "- Instead of running calculations at each $\\lambda$, run a single, short, non-equilibrium calculation"
   ]
  },
  {
   "cell_type": "markdown",
   "id": "f192227c-ff06-423e-8301-dd740a05fdc5",
   "metadata": {},
   "source": [
    "$$\n",
    "G_f = G_i + \\int_{t_i}^{t_f} dt \\frac{d\\lambda (t)}{dt}  \\frac{ H(\\lambda)}{\\partial \\lambda }\n",
    "$$"
   ]
  },
  {
   "cell_type": "markdown",
   "id": "ba336726-f07c-4204-a788-ec1ed303a55d",
   "metadata": {},
   "source": [
    "As discussed:\n",
    "- the coupling parameter $\\lambda$ earlier is replaced by a time dependent parameter\n",
    "- The equation also no longer has an ensemble average  \n",
    "\n",
    "These aspects makes it quite easy and fast to estimate this integral."
   ]
  },
  {
   "cell_type": "markdown",
   "id": "417ec67c-bb70-4ebe-859e-84284f76a198",
   "metadata": {},
   "source": [
    "However:\n",
    "- this equation holds when the switching betwen the system of interest and reference system is carried out infinitely slowly\n",
    "- Practically, this is not not possible. "
   ]
  },
  {
   "cell_type": "markdown",
   "id": "5f9d8a15-a377-4e82-8d9c-7d4f1ac8282d",
   "metadata": {},
   "source": [
    "Therefore we can write:\n",
    "\n",
    "$$\n",
    "\\Delta G = W_{rev} = W_s - E_d\n",
    "$$\n",
    "\n",
    "$$\n",
    "W_s = \\int_{t_i}^{t_f} dt \\frac{d\\lambda (t)}{dt}  \\frac{ H(\\lambda)}{\\partial \\lambda }\n",
    "$$\n",
    "\n",
    "- $E_d$ is the energy dissipation\n",
    "- $E_d \\to 0$ when $t_f-t_i \\to \\infty$"
   ]
  },
  {
   "cell_type": "markdown",
   "id": "a9afe8ae-0860-4e2e-aebd-e3505e67e207",
   "metadata": {},
   "source": [
    "So far, so good, but how is this useful?\n",
    "\n",
    "- Instead of a single transformation from system of interest to reference, we switch back too\n",
    "- These are called forward $(i \\to f)$ and backward $(f \\to i)$ switching\n",
    "- $t_f - t_i = t_{sw}$ is the switching time in each direction\n",
    "- If $t_{sw}$ is long enough, $E_d^{i \\to f} = E_d^{f \\to i}$\n",
    "- and $\\Delta G = \\frac{1}{2} (W_s^{i \\to f} - W_s^{f \\to i})$"
   ]
  },
  {
   "cell_type": "markdown",
   "id": "156259d0-98e8-4165-8599-8cfef6426616",
   "metadata": {},
   "source": [
    "Now, we have all the components required for actual calculations.\n",
    "\n",
    "We have also managed to successfully reduce the dimensionality\n",
    "\n",
    "- for each phase\n",
    "    - for each pressure\n",
    "        - for each temperature\n",
    "            - ~~for each $\\lambda$~~\n",
    "\n",
    "**Dimensionality: (phase, $P$, $T$)**\n",
    "\n",
    "\n",
    "So, how do we calculate the free energy of a system modelled with a given interatomic potential?"
   ]
  },
  {
   "cell_type": "markdown",
   "id": "36695302-b484-45cd-945a-c8428d6f91d1",
   "metadata": {},
   "source": [
    "## <font style=\"color:#455e6c\" face=\"Helvetica\" > Free energy for solids </font>"
   ]
  },
  {
   "cell_type": "markdown",
   "id": "f75fd635-6205-4e10-add0-36fcb309bada",
   "metadata": {},
   "source": [
    "Before we really do the calculations, let's convert our equations to a workflow."
   ]
  },
  {
   "cell_type": "markdown",
   "id": "9fa15cc0-f8e0-4525-84d0-8e8936a0270f",
   "metadata": {},
   "source": [
    "#### Task: Find free energy of Al in FCC lattice at 500 K and 0 pressure"
   ]
  },
  {
   "cell_type": "markdown",
   "id": "7ff9e78c-2af6-4bfb-9f66-54a6291d663f",
   "metadata": {},
   "source": [
    "1. Create an Al FCC lattice\n",
    "2. Choose an interatomic potential\n",
    "3. Run MD calculations at 500 K and 0 pressure to equilibrate the system\n",
    "4. Introduce the reference system\n",
    "5. Switch....\n",
    "6. ....."
   ]
  },
  {
   "cell_type": "markdown",
   "id": "9487d638-d018-4548-b332-18659d5df6f1",
   "metadata": {},
   "source": [
    "Steps 1-3 should be fairly easy, we saw this in the last days and also in the first session. But how do we introduce a reference system?\n",
    "\n",
    "- A reference system is simply one for which the free energy is analytically known ($G_i$)\n",
    "- We calculate the free energy difference between this and the system of interest.\n",
    "\n",
    "In case of solids, a good choice of a reference system is the Einstein crystal. An Einstein crystal is a set of independent harmonic oscillators attached to the lattice positions. \n"
   ]
  },
  {
   "cell_type": "markdown",
   "id": "95f62d45-f0e8-43c2-844c-80dd9102ef7f",
   "metadata": {},
   "source": [
    "The free energy of the Einstein crystal is:\n",
    "\n",
    "$$\n",
    "F_E = 3 k_B T \\sum_{i} ln \\bigg ( \\frac{\\hbar \\omega_i}{k_B T} \\bigg )\n",
    "$$\n",
    "\n",
    "We need to calculate:\n",
    "\n",
    "- $\\omega$\n",
    "- A common way is $$  \\frac{1}{2} k_i \\langle (\\Delta \\pmb{r}_i)^2 \\rangle = \\frac{3}{2} k_\\mathrm{B} T $$\n",
    "- $\\langle (\\Delta \\pmb{r}_i)^2 \\rangle$ is the mean squared displacement."
   ]
  },
  {
   "cell_type": "markdown",
   "id": "d551ce5e-5cbd-4d10-92b1-f55aa00cd368",
   "metadata": {},
   "source": [
    "Now that we know about the reference system, let's update our pseudo workflow:\n",
    "\n",
    "1. Create an Al fcc lattice\n",
    "2. Choose an interatomic potential\n",
    "3. Run MD calculations at 500 K and 0 pressure to equilibrate the system\n",
    "4. Calculate the mean squared displacement, therefore spring constants\n",
    "5. Switch system of interest to reference system\n",
    "6. Equilibrate the system\n",
    "7. Switch back to system of interest\n",
    "8. Find the work done\n",
    "9. Add to the free energy of the Einstein crystal"
   ]
  },
  {
   "cell_type": "markdown",
   "id": "dd7f01a1-9f95-4f92-adfd-e4a86f166ed4",
   "metadata": {},
   "source": [
    "As you can see, there are a number of steps that need to be done. This is where **calphy** and **pyiron** come in. These tools automatise all of the above steps and makes it easy to perform these calculations."
   ]
  },
  {
   "cell_type": "markdown",
   "id": "86416d34-e303-48a9-b06c-2b649599d575",
   "metadata": {},
   "source": [
    "## <font style=\"color:#455e6c\" face=\"Helvetica\" > Free energy as function of temperature </font>\n",
    "\n",
    "<img src=\"img/cimg6.png\" width=\"600\">\n",
    "\n",
    "Gibb's free energy via reversible scaling at a constant pressure is given by,\n",
    "\n",
    "$ G(N,P,T_f) = G(N,P,T_i) + \\dfrac{3}{3}Nk_BT_f\\ln{\\dfrac{T_f}{T_i}} + \\dfrac{T_f}{T_i}\\Delta G $,\n",
    "\n",
    "Therefore, $G(N,P,T_f)$ can be computed from $G(N,P,T_i)$ via the free energy difference $\\Delta G$. \n",
    "\n",
    "Here, $\\Delta G = \\dfrac{1}{2}[W_{if}-W_{fi}$] --- (2)\n",
    "\n",
    "The reversible work is related to the internal energy $U$ by,\n",
    "$W = \\int_{1}^{\\lambda_f}<U> \\,d\\lambda$ --- (3)\n",
    "\n",
    "Using MD $W$ can be computed as:\n",
    "- equilibrate for time $t_{eq}$ in NPT ensemble\n",
    "- switch $\\lambda$ : $1->\\dfrac{T_f}{T_i}$ over time $t_{sw}$\n",
    "- calculate work $W_{if}$ from (3)\n",
    "- equilibrate for time $t_{eq}$ in NPT ensemble\n",
    "- switch $\\lambda$ : $\\dfrac{T_f}{T_i}->1$ over time $t_{sw}$\n",
    "- calculate work $W_{fi}$ from (3)."
   ]
  },
  {
   "cell_type": "markdown",
   "id": "3df94396-6775-4039-98a2-492c336247da",
   "metadata": {},
   "source": [
    "## <font style=\"color:#455e6c\" face=\"Helvetica\" > Free energy for liquids </font>\n",
    "\n",
    "**How is the liquid prepared in this calculation?**\n",
    "\n",
    "- Start from the given structure\n",
    "- This structure is heated until it melts.\n",
    "- Melting of the structure is automatically detected by calphy\n",
    "- Once melted, it is equilibrated to the required temperature and pressure."
   ]
  },
  {
   "cell_type": "markdown",
   "id": "5d03e847-1db4-490e-9fa7-5b4f81c0a290",
   "metadata": {},
   "source": [
    "**What about the reference system for liquid?**\n",
    "\n",
    "The reference system for the Liquid structure is also different. In this case, the Uhlenbeck-Ford system is used as the reference system for liquid.\n",
    "\n",
    "The Uhlenbeck-Ford model is described by,\n",
    "\n",
    "$$\n",
    "E = - \\epsilon \\log(1-\\exp(-r^2/\\sigma^2))\n",
    "$$\n",
    "\n",
    "where,\n",
    "\n",
    "$$\n",
    "\\epsilon = p k_B T\n",
    "$$\n",
    "\n",
    "$\\epsilon$ and $\\sigma$ are energy and length scales, respectively.\n",
    "\n",
    "It is purely repulsive liquid model which does not undergo any phase transformations."
   ]
  },
  {
   "cell_type": "markdown",
   "id": "3174c1b8-03b0-456d-bd63-0af58ad9ddeb",
   "metadata": {},
   "source": [
    "## <font style=\"color:#455e6c\" face=\"Helvetica\" > Comparison of melting temperature methods </font>"
   ]
  },
  {
   "cell_type": "markdown",
   "id": "b2ce6a9f-1bb7-4d25-8d5e-28882a7dc08e",
   "metadata": {},
   "source": [
    "<img src=\"img/tm_methods.png\" width=\"900\">"
   ]
  },
  {
   "cell_type": "markdown",
   "id": "3033a049-537e-48da-ba1d-889b426f0006",
   "metadata": {},
   "source": [
    "## <font style=\"color:#455e6c\" face=\"Helvetica\" > Further reading.. </font>\n",
    "\n",
    "- [Menon, Sarath, Yury Lysogorskiy, Jutta Rogal, and Ralf Drautz. “Automated Free-Energy Calculation from Atomistic Simulations.” Physical Review Materials 5, no. 10 (October 11, 2021): 103801.](https://doi.org/10.1103/PhysRevMaterials.5.103801).\n",
    "- [Freitas, Rodrigo, Mark Asta, and Maurice de Koning. “Nonequilibrium Free-Energy Calculation of Solids Using LAMMPS.” Computational Materials Science 112 (February 2016): 333–41.](https://doi.org/10.1016/j.commatsci.2015.10.050).\n",
    "- [Paula Leite, Rodolfo, and Maurice de Koning. “Nonequilibrium Free-Energy Calculations of Fluids Using LAMMPS.” Computational Materials Science 159 (March 2019): 316–26.](https://doi.org/10.1016/j.commatsci.2018.12.029).\n",
    "- [Koning, Maurice de, A. Antonelli, and Sidney Yip. “Optimized Free-Energy Evaluation Using a Single Reversible-Scaling Simulation.” Physical Review Letters 83, no. 20 (November 15, 1999): 3973–77.](https://doi.org/10.1103/PhysRevLett.83.3973).\n",
    "- [Paula Leite, Rodolfo, Rodrigo Freitas, Rodolfo Azevedo, and Maurice de Koning. “The Uhlenbeck-Ford Model: Exact Virial Coefficients and Application as a Reference System in Fluid-Phase Free-Energy Calculations.” The Journal of Chemical Physics 145, no. 19 (November 21, 2016): 194101.](https://doi.org/10.1063/1.4967775).\n",
    "\n"
   ]
  }
 ],
 "metadata": {
  "kernelspec": {
   "display_name": "Python 3 (ipykernel)",
   "language": "python",
   "name": "python3"
  },
  "language_info": {
   "codemirror_mode": {
    "name": "ipython",
    "version": 3
   },
   "file_extension": ".py",
   "mimetype": "text/x-python",
   "name": "python",
   "nbconvert_exporter": "python",
   "pygments_lexer": "ipython3",
   "version": "3.11.6"
  }
 },
 "nbformat": 4,
 "nbformat_minor": 5
}
