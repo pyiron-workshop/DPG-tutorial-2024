{
 "cells": [
  {
   "cell_type": "code",
   "execution_count": 16,
   "id": "39af5d0e-d4e2-409b-83b6-8dc7321d7239",
   "metadata": {},
   "outputs": [
    {
     "name": "stderr",
     "output_type": "stream",
     "text": [
      "/home/menon/miniconda3/envs/pyiron-workflow/lib/python3.11/site-packages/numpy/core/getlimits.py:542: UserWarning: Signature b'\\x00\\xd0\\xcc\\xcc\\xcc\\xcc\\xcc\\xcc\\xfb\\xbf\\x00\\x00\\x00\\x00\\x00\\x00' for <class 'numpy.longdouble'> does not match any known type: falling back to type probe function.\n",
      "This warnings indicates broken support for the dtype!\n",
      "  machar = _get_machar(dtype)\n",
      "/home/menon/miniconda3/envs/pyiron-workflow/lib/python3.11/site-packages/tqdm/auto.py:21: TqdmWarning: IProgress not found. Please update jupyter and ipywidgets. See https://ipywidgets.readthedocs.io/en/stable/user_install.html\n",
      "  from .autonotebook import tqdm as notebook_tqdm\n",
      "2024-02-19 17:16:08,924 - pyiron_log - WARNING - pyiron found a 'templates' folder in the /home/menon/pyiron/resources resource directory. These are no longer supported in pyiron_base >=0.7.0. They are replaced by Project.create_job_class() and Project.wrap_python_function().\n",
      "2024-02-19 17:16:08,924 - pyiron_log - WARNING - pyiron found a 'templates' folder in the /home/menon/pyiron/resources resource directory. These are no longer supported in pyiron_base >=0.7.0. They are replaced by Project.create_job_class() and Project.wrap_python_function().\n"
     ]
    }
   ],
   "source": [
    "import pandas as pd\n",
    "import numpy as np\n",
    "import matplotlib.pyplot as plt\n",
    "from pyiron_workflow import Workflow\n",
    "from pyiron_base import Project"
   ]
  },
  {
   "cell_type": "code",
   "execution_count": 17,
   "id": "4c196f07-bd94-47b3-b596-f1c71eeb0e31",
   "metadata": {},
   "outputs": [],
   "source": [
    "@Workflow.wrap_as.function_node()\n",
    "def read_input(filename, area):\n",
    "    \"\"\"\n",
    "    My custom function to read an input file and process it\n",
    "    \"\"\"\n",
    "    df = pd.read_csv(filename, delimiter=\";\", header=[0,1], decimal=',')\n",
    "    df['Stress'] = df['Load']*1000/area\n",
    "    load = df['Load']*1000\n",
    "    strain = df['Extensometer elongation'].values.flatten()\n",
    "    stress = df['Stress'].values.flatten()\n",
    "    return stress, strain"
   ]
  },
  {
   "cell_type": "code",
   "execution_count": 18,
   "id": "95e6d452-0774-4994-bda8-6b156788ec86",
   "metadata": {},
   "outputs": [],
   "source": [
    "@Workflow.wrap_as.function_node()\n",
    "def calculate_youngs_modulus(stress, strain, strain_cutoff=0.2):\n",
    "    arg = np.argsort(np.abs(np.array(strain)-strain_cutoff))[0]\n",
    "    fit = np.polyfit(strain[:arg], stress[:arg], 1)\n",
    "    youngs_modulus = fit[0]*(1/0.01)/1000\n",
    "    return youngs_modulus"
   ]
  },
  {
   "cell_type": "code",
   "execution_count": 19,
   "id": "31cf633c-dc6f-4132-bce1-0edfbb64a723",
   "metadata": {},
   "outputs": [],
   "source": [
    "@Workflow.wrap_as.function_node()\n",
    "def plot(stress, strain):\n",
    "    plt.plot(strain, stress)\n",
    "    plt.xlabel(\"Strain [%]\");\n",
    "    plt.ylabel(\"Stress [MPa]\");\n",
    "    return 1"
   ]
  },
  {
   "cell_type": "code",
   "execution_count": 20,
   "id": "950da016-0dbe-4211-bf26-531053d3ee52",
   "metadata": {},
   "outputs": [],
   "source": [
    "wf = Workflow(\"youngs_modulus\")\n",
    "wf.read_input = read_input()\n",
    "\n",
    "#add keyword args\n",
    "#black formatter\n",
    "\n",
    "wf.youngs_modulus = calculate_youngs_modulus(wf.read_input.outputs.stress,\n",
    "                                            wf.read_input.outputs.strain,\n",
    "                                            )\n",
    "\n",
    "wf.plot = plot(wf.read_input.outputs.stress,\n",
    "                                            wf.read_input.outputs.strain)"
   ]
  },
  {
   "cell_type": "code",
   "execution_count": 6,
   "id": "e3108fd5-73b7-4639-9551-d04fa8eb0184",
   "metadata": {},
   "outputs": [
    {
     "data": {
      "text/plain": [
       "{'youngs_modulus__youngs_modulus': 188.4145327564868, 'plot__1': 1}"
      ]
     },
     "execution_count": 6,
     "metadata": {},
     "output_type": "execute_result"
    },
    {
     "data": {
      "image/png": "[encoded data removed]",
      "text/plain": [
       "<Figure size 640x480 with 1 Axes>"
      ]
     },
     "metadata": {},
     "output_type": "display_data"
    }
   ],
   "source": [
    " wf(read_input__filename='dataset_1.csv', read_input__area=120.636)"
   ]
  },
  {
   "cell_type": "code",
   "execution_count": 9,
   "id": "59070602-a311-47bf-8470-e19796b56149",
   "metadata": {},
   "outputs": [
    {
     "data": {
      "image/svg+xml": [
       "<?xml version=\"1.0\" encoding=\"UTF-8\" standalone=\"no\"?>\n",
       "<!DOCTYPE svg PUBLIC \"-//W3C//DTD SVG 1.1//EN\"\n",
       " \"http://www.w3.org/Graphics/SVG/1.1/DTD/svg11.dtd\">\n",
       "<!-- Generated by graphviz version 9.0.0 (20231125.0833)\n",
       " -->\n",
       "<!-- Title: clusteryoungs_modulus Pages: 1 -->\n",
       "<svg width=\"1080pt\" height=\"513pt\"\n",
       " viewBox=\"0.00 0.00 1080.00 512.54\" xmlns=\"http://www.w3.org/2000/svg\" xmlns:xlink=\"http://www.w3.org/1999/xlink\">\n",
       "<g id=\"graph0\" class=\"graph\" transform=\"scale(0.714597 0.714597) rotate(0) translate(4 713.25)\">\n",
       "<title>clusteryoungs_modulus</title>\n",
       "<polygon fill=\"white\" stroke=\"none\" points=\"-4,4 -4,-713.25 1507.34,-713.25 1507.34,4 -4,4\"/>\n",
       "<text text-anchor=\"middle\" x=\"751.67\" y=\"-7.95\" font-family=\"Helvetica,sans-Serif\" font-size=\"14.00\">youngs_modulus: Workflow</text>\n",
       "<g id=\"clust1\" class=\"cluster\">\n",
       "<title>clusteryoungs_modulusInputs</title>\n",
       "<defs>\n",
       "<linearGradient id=\"clust1_l_0\" gradientUnits=\"userSpaceOnUse\" x1=\"8\" y1=\"-179.75\" x2=\"351.59\" y2=\"-179.75\" >\n",
       "<stop offset=\"0\" style=\"stop-color:#a5a4a5;stop-opacity:1.;\"/>\n",
       "<stop offset=\"1\" style=\"stop-color:#e4e4e4;stop-opacity:1.;\"/>\n",
       "</linearGradient>\n",
       "</defs>\n",
       "<polygon fill=\"url(#clust1_l_0)\" stroke=\"#a5a4a5\" points=\"8,-33.25 8,-326.25 351.59,-326.25 351.59,-33.25 8,-33.25\"/>\n",
       "<text text-anchor=\"middle\" x=\"179.8\" y=\"-308.95\" font-family=\"Helvetica,sans-Serif\" font-size=\"14.00\">Inputs</text>\n",
       "</g>\n",
       "<g id=\"clust2\" class=\"cluster\">\n",
       "<title>clusteryoungs_modulusOutputs</title>\n",
       "<defs>\n",
       "<linearGradient id=\"clust2_l_1\" gradientUnits=\"userSpaceOnUse\" x1=\"1495.34\" y1=\"-287.75\" x2=\"1107.56\" y2=\"-287.75\" >\n",
       "<stop offset=\"0\" style=\"stop-color:#a5a4a5;stop-opacity:1.;\"/>\n",
       "<stop offset=\"1\" style=\"stop-color:#e4e4e4;stop-opacity:1.;\"/>\n",
       "</linearGradient>\n",
       "</defs>\n",
       "<polygon fill=\"url(#clust2_l_1)\" stroke=\"#a5a4a5\" points=\"1107.56,-195.25 1107.56,-380.25 1495.34,-380.25 1495.34,-195.25 1107.56,-195.25\"/>\n",
       "<text text-anchor=\"middle\" x=\"1301.45\" y=\"-362.95\" font-family=\"Helvetica,sans-Serif\" font-size=\"14.00\">Outputs</text>\n",
       "</g>\n",
       "<g id=\"clust3\" class=\"cluster\">\n",
       "<title>clusteryoungs_modulusread_input</title>\n",
       "<defs>\n",
       "<linearGradient id=\"clust3_l_2\" gradientUnits=\"userSpaceOnUse\" x1=\"363.59\" y1=\"-300.25\" x2=\"671.91\" y2=\"-300.25\" >\n",
       "<stop offset=\"0\" style=\"stop-color:#9ac5c2;stop-opacity:1.;\"/>\n",
       "<stop offset=\"1\" style=\"stop-color:#9ac5c2;stop-opacity:1.;\"/>\n",
       "</linearGradient>\n",
       "</defs>\n",
       "<polygon fill=\"url(#clust3_l_2)\" stroke=\"#9ac5c2\" points=\"363.59,-160.25 363.59,-440.25 671.91,-440.25 671.91,-160.25 363.59,-160.25\"/>\n",
       "<text text-anchor=\"middle\" x=\"517.75\" y=\"-422.95\" font-family=\"Helvetica,sans-Serif\" font-size=\"14.00\">read_input: read_input</text>\n",
       "</g>\n",
       "<g id=\"clust4\" class=\"cluster\">\n",
       "<title>clusteryoungs_modulusread_inputInputs</title>\n",
       "<defs>\n",
       "<linearGradient id=\"clust4_l_3\" gradientUnits=\"userSpaceOnUse\" x1=\"371.59\" y1=\"-287.75\" x2=\"547.59\" y2=\"-287.75\" >\n",
       "<stop offset=\"0\" style=\"stop-color:#a5a4a5;stop-opacity:1.;\"/>\n",
       "<stop offset=\"1\" style=\"stop-color:#e4e4e4;stop-opacity:1.;\"/>\n",
       "</linearGradient>\n",
       "</defs>\n",
       "<polygon fill=\"url(#clust4_l_3)\" stroke=\"#a5a4a5\" points=\"371.59,-168.25 371.59,-407.25 547.59,-407.25 547.59,-168.25 371.59,-168.25\"/>\n",
       "<text text-anchor=\"middle\" x=\"459.59\" y=\"-389.95\" font-family=\"Helvetica,sans-Serif\" font-size=\"14.00\">Inputs</text>\n",
       "</g>\n",
       "<g id=\"clust5\" class=\"cluster\">\n",
       "<title>clusteryoungs_modulusread_inputOutputs</title>\n",
       "<defs>\n",
       "<linearGradient id=\"clust5_l_4\" gradientUnits=\"userSpaceOnUse\" x1=\"663.91\" y1=\"-314.75\" x2=\"567.59\" y2=\"-314.75\" >\n",
       "<stop offset=\"0\" style=\"stop-color:#a5a4a5;stop-opacity:1.;\"/>\n",
       "<stop offset=\"1\" style=\"stop-color:#e4e4e4;stop-opacity:1.;\"/>\n",
       "</linearGradient>\n",
       "</defs>\n",
       "<polygon fill=\"url(#clust5_l_4)\" stroke=\"#a5a4a5\" points=\"567.59,-222.25 567.59,-407.25 663.91,-407.25 663.91,-222.25 567.59,-222.25\"/>\n",
       "<text text-anchor=\"middle\" x=\"615.75\" y=\"-389.95\" font-family=\"Helvetica,sans-Serif\" font-size=\"14.00\">Outputs</text>\n",
       "</g>\n",
       "<g id=\"clust6\" class=\"cluster\">\n",
       "<title>clusteryoungs_modulusyoungs_modulus</title>\n",
       "<defs>\n",
       "<linearGradient id=\"clust6_l_5\" gradientUnits=\"userSpaceOnUse\" x1=\"679.91\" y1=\"-246.25\" x2=\"1095.56\" y2=\"-246.25\" >\n",
       "<stop offset=\"0\" style=\"stop-color:#9ac5c2;stop-opacity:1.;\"/>\n",
       "<stop offset=\"1\" style=\"stop-color:#9ac5c2;stop-opacity:1.;\"/>\n",
       "</linearGradient>\n",
       "</defs>\n",
       "<polygon fill=\"url(#clust6_l_5)\" stroke=\"#9ac5c2\" points=\"679.91,-79.25 679.91,-413.25 1095.56,-413.25 1095.56,-79.25 679.91,-79.25\"/>\n",
       "<text text-anchor=\"middle\" x=\"887.73\" y=\"-395.95\" font-family=\"Helvetica,sans-Serif\" font-size=\"14.00\">youngs_modulus: calculate_youngs_modulus</text>\n",
       "</g>\n",
       "<g id=\"clust7\" class=\"cluster\">\n",
       "<title>clusteryoungs_modulusyoungs_modulusInputs</title>\n",
       "<defs>\n",
       "<linearGradient id=\"clust7_l_6\" gradientUnits=\"userSpaceOnUse\" x1=\"687.91\" y1=\"-233.75\" x2=\"863.91\" y2=\"-233.75\" >\n",
       "<stop offset=\"0\" style=\"stop-color:#a5a4a5;stop-opacity:1.;\"/>\n",
       "<stop offset=\"1\" style=\"stop-color:#e4e4e4;stop-opacity:1.;\"/>\n",
       "</linearGradient>\n",
       "</defs>\n",
       "<polygon fill=\"url(#clust7_l_6)\" stroke=\"#a5a4a5\" points=\"687.91,-87.25 687.91,-380.25 863.91,-380.25 863.91,-87.25 687.91,-87.25\"/>\n",
       "<text text-anchor=\"middle\" x=\"775.91\" y=\"-362.95\" font-family=\"Helvetica,sans-Serif\" font-size=\"14.00\">Inputs</text>\n",
       "</g>\n",
       "<g id=\"clust8\" class=\"cluster\">\n",
       "<title>clusteryoungs_modulusyoungs_modulusOutputs</title>\n",
       "<defs>\n",
       "<linearGradient id=\"clust8_l_7\" gradientUnits=\"userSpaceOnUse\" x1=\"1087.56\" y1=\"-314.75\" x2=\"883.91\" y2=\"-314.75\" >\n",
       "<stop offset=\"0\" style=\"stop-color:#a5a4a5;stop-opacity:1.;\"/>\n",
       "<stop offset=\"1\" style=\"stop-color:#e4e4e4;stop-opacity:1.;\"/>\n",
       "</linearGradient>\n",
       "</defs>\n",
       "<polygon fill=\"url(#clust8_l_7)\" stroke=\"#a5a4a5\" points=\"883.91,-249.25 883.91,-380.25 1087.56,-380.25 1087.56,-249.25 883.91,-249.25\"/>\n",
       "<text text-anchor=\"middle\" x=\"985.73\" y=\"-362.95\" font-family=\"Helvetica,sans-Serif\" font-size=\"14.00\">Outputs</text>\n",
       "</g>\n",
       "<g id=\"clust9\" class=\"cluster\">\n",
       "<title>clusteryoungs_modulusplot</title>\n",
       "<defs>\n",
       "<linearGradient id=\"clust9_l_8\" gradientUnits=\"userSpaceOnUse\" x1=\"679.91\" y1=\"-561.25\" x2=\"1029.73\" y2=\"-561.25\" >\n",
       "<stop offset=\"0\" style=\"stop-color:#9ac5c2;stop-opacity:1.;\"/>\n",
       "<stop offset=\"1\" style=\"stop-color:#9ac5c2;stop-opacity:1.;\"/>\n",
       "</linearGradient>\n",
       "</defs>\n",
       "<polygon fill=\"url(#clust9_l_8)\" stroke=\"#9ac5c2\" points=\"679.91,-421.25 679.91,-701.25 1029.73,-701.25 1029.73,-421.25 679.91,-421.25\"/>\n",
       "<text text-anchor=\"middle\" x=\"854.82\" y=\"-683.95\" font-family=\"Helvetica,sans-Serif\" font-size=\"14.00\">plot: plot</text>\n",
       "</g>\n",
       "<g id=\"clust10\" class=\"cluster\">\n",
       "<title>clusteryoungs_modulusplotInputs</title>\n",
       "<defs>\n",
       "<linearGradient id=\"clust10_l_9\" gradientUnits=\"userSpaceOnUse\" x1=\"687.91\" y1=\"-548.75\" x2=\"863.91\" y2=\"-548.75\" >\n",
       "<stop offset=\"0\" style=\"stop-color:#a5a4a5;stop-opacity:1.;\"/>\n",
       "<stop offset=\"1\" style=\"stop-color:#e4e4e4;stop-opacity:1.;\"/>\n",
       "</linearGradient>\n",
       "</defs>\n",
       "<polygon fill=\"url(#clust10_l_9)\" stroke=\"#a5a4a5\" points=\"687.91,-429.25 687.91,-668.25 863.91,-668.25 863.91,-429.25 687.91,-429.25\"/>\n",
       "<text text-anchor=\"middle\" x=\"775.91\" y=\"-650.95\" font-family=\"Helvetica,sans-Serif\" font-size=\"14.00\">Inputs</text>\n",
       "</g>\n",
       "<g id=\"clust11\" class=\"cluster\">\n",
       "<title>clusteryoungs_modulusplotOutputs</title>\n",
       "<defs>\n",
       "<linearGradient id=\"clust11_l_10\" gradientUnits=\"userSpaceOnUse\" x1=\"1021.73\" y1=\"-548.75\" x2=\"949.73\" y2=\"-548.75\" >\n",
       "<stop offset=\"0\" style=\"stop-color:#a5a4a5;stop-opacity:1.;\"/>\n",
       "<stop offset=\"1\" style=\"stop-color:#e4e4e4;stop-opacity:1.;\"/>\n",
       "</linearGradient>\n",
       "</defs>\n",
       "<polygon fill=\"url(#clust11_l_10)\" stroke=\"#a5a4a5\" points=\"949.73,-483.25 949.73,-614.25 1021.73,-614.25 1021.73,-483.25 949.73,-483.25\"/>\n",
       "<text text-anchor=\"middle\" x=\"985.73\" y=\"-596.95\" font-family=\"Helvetica,sans-Serif\" font-size=\"14.00\">Outputs</text>\n",
       "</g>\n",
       "<!-- clusteryoungs_modulusInputsrun -->\n",
       "<g id=\"node1\" class=\"node\">\n",
       "<title>clusteryoungs_modulusInputsrun</title>\n",
       "<polygon fill=\"#21bfd8\" stroke=\"#21bfd8\" points=\"194.8,-71.25 152.8,-71.25 152.8,-47.25 194.8,-47.25 206.8,-59.25 194.8,-71.25\"/>\n",
       "<text text-anchor=\"middle\" x=\"179.8\" y=\"-54.58\" font-family=\"Helvetica,sans-Serif\" font-size=\"14.00\">run</text>\n",
       "</g>\n",
       "<!-- clusteryoungs_modulusOutputsran -->\n",
       "<g id=\"node6\" class=\"node\">\n",
       "<title>clusteryoungs_modulusOutputsran</title>\n",
       "<polygon fill=\"#21bfd8\" stroke=\"#21bfd8\" points=\"1316.45,-233.25 1274.45,-233.25 1274.45,-209.25 1316.45,-209.25 1328.45,-221.25 1316.45,-233.25\"/>\n",
       "<text text-anchor=\"middle\" x=\"1301.45\" y=\"-216.57\" font-family=\"Helvetica,sans-Serif\" font-size=\"14.00\">ran</text>\n",
       "</g>\n",
       "<!-- clusteryoungs_modulusInputsrun&#45;&gt;clusteryoungs_modulusOutputsran -->\n",
       "<!-- clusteryoungs_modulusInputsaccumulate_and_run -->\n",
       "<g id=\"node2\" class=\"node\">\n",
       "<title>clusteryoungs_modulusInputsaccumulate_and_run</title>\n",
       "<polygon fill=\"#21bfd8\" stroke=\"#21bfd8\" points=\"247.8,-233.25 99.8,-233.25 99.8,-209.25 247.8,-209.25 259.8,-221.25 247.8,-233.25\"/>\n",
       "<text text-anchor=\"middle\" x=\"179.8\" y=\"-216.57\" font-family=\"Helvetica,sans-Serif\" font-size=\"14.00\">accumulate_and_run</text>\n",
       "</g>\n",
       "<!-- clusteryoungs_modulusInputsread_input__filename -->\n",
       "<g id=\"node3\" class=\"node\">\n",
       "<title>clusteryoungs_modulusInputsread_input__filename</title>\n",
       "<ellipse fill=\"#edb22c\" stroke=\"#edb22c\" cx=\"179.8\" cy=\"-167.25\" rx=\"114.34\" ry=\"18\"/>\n",
       "<text text-anchor=\"middle\" x=\"179.8\" y=\"-162.57\" font-family=\"Helvetica,sans-Serif\" font-size=\"14.00\">read_input__filename</text>\n",
       "</g>\n",
       "<!-- clusteryoungs_modulusread_inputInputsfilename -->\n",
       "<g id=\"node11\" class=\"node\">\n",
       "<title>clusteryoungs_modulusread_inputInputsfilename</title>\n",
       "<ellipse fill=\"#edb22c\" stroke=\"#edb22c\" cx=\"459.59\" cy=\"-194.25\" rx=\"53.31\" ry=\"18\"/>\n",
       "<text text-anchor=\"middle\" x=\"459.59\" y=\"-189.57\" font-family=\"Helvetica,sans-Serif\" font-size=\"14.00\">filename</text>\n",
       "</g>\n",
       "<!-- clusteryoungs_modulusInputsread_input__filename&#45;&gt;clusteryoungs_modulusread_inputInputsfilename -->\n",
       "<g id=\"edge11\" class=\"edge\">\n",
       "<title>clusteryoungs_modulusInputsread_input__filename&#45;&gt;clusteryoungs_modulusread_inputInputsfilename</title>\n",
       "<path fill=\"none\" stroke=\"#edb22c\" d=\"M278.35,-176.73C298.01,-178.64 318.89,-180.67 339.2,-182.65\"/>\n",
       "<path fill=\"none\" stroke=\"#edb22c\" d=\"M339.2,-182.65C359.52,-184.62 379.26,-186.54 396.65,-188.23\"/>\n",
       "<polygon fill=\"#edb22c\" stroke=\"#edb22c\" points=\"396.27,-191.71 406.56,-189.19 396.95,-184.74 396.27,-191.71\"/>\n",
       "</g>\n",
       "<!-- clusteryoungs_modulusInputsread_input__area -->\n",
       "<g id=\"node4\" class=\"node\">\n",
       "<title>clusteryoungs_modulusInputsread_input__area</title>\n",
       "<ellipse fill=\"#edb22c\" stroke=\"#edb22c\" cx=\"179.8\" cy=\"-275.25\" rx=\"93.3\" ry=\"18\"/>\n",
       "<text text-anchor=\"middle\" x=\"179.8\" y=\"-270.57\" font-family=\"Helvetica,sans-Serif\" font-size=\"14.00\">read_input__area</text>\n",
       "</g>\n",
       "<!-- clusteryoungs_modulusread_inputInputsarea -->\n",
       "<g id=\"node12\" class=\"node\">\n",
       "<title>clusteryoungs_modulusread_inputInputsarea</title>\n",
       "<ellipse fill=\"#edb22c\" stroke=\"#edb22c\" cx=\"459.59\" cy=\"-248.25\" rx=\"32.27\" ry=\"18\"/>\n",
       "<text text-anchor=\"middle\" x=\"459.59\" y=\"-243.57\" font-family=\"Helvetica,sans-Serif\" font-size=\"14.00\">area</text>\n",
       "</g>\n",
       "<!-- clusteryoungs_modulusInputsread_input__area&#45;&gt;clusteryoungs_modulusread_inputInputsarea -->\n",
       "<g id=\"edge12\" class=\"edge\">\n",
       "<title>clusteryoungs_modulusInputsread_input__area&#45;&gt;clusteryoungs_modulusread_inputInputsarea</title>\n",
       "<path fill=\"none\" stroke=\"#edb22c\" d=\"M263.77,-267.19C288.87,-264.75 316.89,-262.02 343.69,-259.42\"/>\n",
       "<path fill=\"none\" stroke=\"#edb22c\" d=\"M343.69,-259.42C370.49,-256.81 396.06,-254.33 416.24,-252.37\"/>\n",
       "<polygon fill=\"#edb22c\" stroke=\"#edb22c\" points=\"416.41,-255.87 426.03,-251.41 415.74,-248.9 416.41,-255.87\"/>\n",
       "</g>\n",
       "<!-- clusteryoungs_modulusInputsyoungs_modulus__strain_cutoff -->\n",
       "<g id=\"node5\" class=\"node\">\n",
       "<title>clusteryoungs_modulusInputsyoungs_modulus__strain_cutoff</title>\n",
       "<ellipse fill=\"#edb22c\" stroke=\"#edb22c\" cx=\"179.8\" cy=\"-113.25\" rx=\"163.8\" ry=\"18\"/>\n",
       "<text text-anchor=\"middle\" x=\"179.8\" y=\"-108.58\" font-family=\"Helvetica,sans-Serif\" font-size=\"14.00\">youngs_modulus__strain_cutoff</text>\n",
       "</g>\n",
       "<!-- clusteryoungs_modulusyoungs_modulusInputsstrain_cutoff -->\n",
       "<g id=\"node20\" class=\"node\">\n",
       "<title>clusteryoungs_modulusyoungs_modulusInputsstrain_cutoff</title>\n",
       "<ellipse fill=\"#edb22c\" stroke=\"#edb22c\" cx=\"775.91\" cy=\"-113.25\" rx=\"71.73\" ry=\"18\"/>\n",
       "<text text-anchor=\"middle\" x=\"775.91\" y=\"-108.58\" font-family=\"Helvetica,sans-Serif\" font-size=\"14.00\">strain_cutoff</text>\n",
       "</g>\n",
       "<!-- clusteryoungs_modulusInputsyoungs_modulus__strain_cutoff&#45;&gt;clusteryoungs_modulusyoungs_modulusInputsstrain_cutoff -->\n",
       "<g id=\"edge13\" class=\"edge\">\n",
       "<title>clusteryoungs_modulusInputsyoungs_modulus__strain_cutoff&#45;&gt;clusteryoungs_modulusyoungs_modulusInputsstrain_cutoff</title>\n",
       "<path fill=\"none\" stroke=\"#edb22c\" d=\"M343.93,-113.25C400.45,-113.25 465.15,-113.25 526.94,-113.25\"/>\n",
       "<path fill=\"none\" stroke=\"#edb22c\" d=\"M526.94,-113.25C588.73,-113.25 647.6,-113.25 692.47,-113.25\"/>\n",
       "<polygon fill=\"#edb22c\" stroke=\"#edb22c\" points=\"692.42,-116.75 702.42,-113.25 692.42,-109.75 692.42,-116.75\"/>\n",
       "</g>\n",
       "<!-- clusteryoungs_modulusOutputsyoungs_modulus__youngs_modulus -->\n",
       "<g id=\"node7\" class=\"node\">\n",
       "<title>clusteryoungs_modulusOutputsyoungs_modulus__youngs_modulus</title>\n",
       "<ellipse fill=\"#edb22c\" stroke=\"#edb22c\" cx=\"1301.45\" cy=\"-275.25\" rx=\"185.89\" ry=\"18\"/>\n",
       "<text text-anchor=\"middle\" x=\"1301.45\" y=\"-270.57\" font-family=\"Helvetica,sans-Serif\" font-size=\"14.00\">youngs_modulus__youngs_modulus</text>\n",
       "</g>\n",
       "<!-- clusteryoungs_modulusOutputsplot__1 -->\n",
       "<g id=\"node8\" class=\"node\">\n",
       "<title>clusteryoungs_modulusOutputsplot__1</title>\n",
       "<ellipse fill=\"#edb22c\" stroke=\"#edb22c\" cx=\"1301.45\" cy=\"-329.25\" rx=\"45.42\" ry=\"18\"/>\n",
       "<text text-anchor=\"middle\" x=\"1301.45\" y=\"-324.57\" font-family=\"Helvetica,sans-Serif\" font-size=\"14.00\">plot__1</text>\n",
       "</g>\n",
       "<!-- clusteryoungs_modulusread_inputInputsrun -->\n",
       "<g id=\"node9\" class=\"node\">\n",
       "<title>clusteryoungs_modulusread_inputInputsrun</title>\n",
       "<polygon fill=\"#21bfd8\" stroke=\"#21bfd8\" points=\"474.59,-368.25 432.59,-368.25 432.59,-344.25 474.59,-344.25 486.59,-356.25 474.59,-368.25\"/>\n",
       "<text text-anchor=\"middle\" x=\"459.59\" y=\"-351.57\" font-family=\"Helvetica,sans-Serif\" font-size=\"14.00\">run</text>\n",
       "</g>\n",
       "<!-- clusteryoungs_modulusread_inputOutputsran -->\n",
       "<g id=\"node13\" class=\"node\">\n",
       "<title>clusteryoungs_modulusread_inputOutputsran</title>\n",
       "<polygon fill=\"#21bfd8\" stroke=\"#21bfd8\" points=\"630.75,-368.25 588.75,-368.25 588.75,-344.25 630.75,-344.25 642.75,-356.25 630.75,-368.25\"/>\n",
       "<text text-anchor=\"middle\" x=\"615.75\" y=\"-351.57\" font-family=\"Helvetica,sans-Serif\" font-size=\"14.00\">ran</text>\n",
       "</g>\n",
       "<!-- clusteryoungs_modulusread_inputInputsrun&#45;&gt;clusteryoungs_modulusread_inputOutputsran -->\n",
       "<!-- clusteryoungs_modulusread_inputInputsaccumulate_and_run -->\n",
       "<g id=\"node10\" class=\"node\">\n",
       "<title>clusteryoungs_modulusread_inputInputsaccumulate_and_run</title>\n",
       "<polygon fill=\"#21bfd8\" stroke=\"#21bfd8\" points=\"527.59,-314.25 379.59,-314.25 379.59,-290.25 527.59,-290.25 539.59,-302.25 527.59,-314.25\"/>\n",
       "<text text-anchor=\"middle\" x=\"459.59\" y=\"-297.57\" font-family=\"Helvetica,sans-Serif\" font-size=\"14.00\">accumulate_and_run</text>\n",
       "</g>\n",
       "<!-- clusteryoungs_modulusyoungs_modulusInputsaccumulate_and_run -->\n",
       "<g id=\"node17\" class=\"node\">\n",
       "<title>clusteryoungs_modulusyoungs_modulusInputsaccumulate_and_run</title>\n",
       "<polygon fill=\"#21bfd8\" stroke=\"#21bfd8\" points=\"843.91,-287.25 695.91,-287.25 695.91,-263.25 843.91,-263.25 855.91,-275.25 843.91,-287.25\"/>\n",
       "<text text-anchor=\"middle\" x=\"775.91\" y=\"-270.57\" font-family=\"Helvetica,sans-Serif\" font-size=\"14.00\">accumulate_and_run</text>\n",
       "</g>\n",
       "<!-- clusteryoungs_modulusread_inputOutputsran&#45;&gt;clusteryoungs_modulusyoungs_modulusInputsaccumulate_and_run -->\n",
       "<g id=\"edge5\" class=\"edge\">\n",
       "<title>clusteryoungs_modulusread_inputOutputsran&#45;&gt;clusteryoungs_modulusyoungs_modulusInputsaccumulate_and_run</title>\n",
       "<path fill=\"none\" stroke=\"#21bfd8\" d=\"M643,-348.55C653.29,-344.34 664.41,-338.13 671.91,-329.25 673.05,-327.9 673.85,-326.57 674.41,-325.26\"/>\n",
       "<path fill=\"none\" stroke=\"#21bfd8\" d=\"M674.41,-325.26C677.81,-317.25 672.27,-309.81 679.91,-302.25 681.94,-300.25 684.1,-298.39 686.38,-296.67\"/>\n",
       "<polygon fill=\"#21bfd8\" stroke=\"#21bfd8\" points=\"687.88,-299.86 694.38,-291.5 684.08,-293.98 687.88,-299.86\"/>\n",
       "</g>\n",
       "<!-- clusteryoungs_modulusplotInputsaccumulate_and_run -->\n",
       "<g id=\"node24\" class=\"node\">\n",
       "<title>clusteryoungs_modulusplotInputsaccumulate_and_run</title>\n",
       "<polygon fill=\"#21bfd8\" stroke=\"#21bfd8\" points=\"843.91,-575.25 695.91,-575.25 695.91,-551.25 843.91,-551.25 855.91,-563.25 843.91,-575.25\"/>\n",
       "<text text-anchor=\"middle\" x=\"775.91\" y=\"-558.58\" font-family=\"Helvetica,sans-Serif\" font-size=\"14.00\">accumulate_and_run</text>\n",
       "</g>\n",
       "<!-- clusteryoungs_modulusread_inputOutputsran&#45;&gt;clusteryoungs_modulusplotInputsaccumulate_and_run -->\n",
       "<g id=\"edge6\" class=\"edge\">\n",
       "<title>clusteryoungs_modulusread_inputOutputsran&#45;&gt;clusteryoungs_modulusplotInputsaccumulate_and_run</title>\n",
       "<path fill=\"none\" stroke=\"#21bfd8\" d=\"M617.79,-374.5C619.39,-393.38 623.42,-424.49 633.57,-456.22\"/>\n",
       "<path fill=\"none\" stroke=\"#21bfd8\" d=\"M633.57,-456.22C642.9,-485.37 657.39,-515.06 679.91,-536.25 681.79,-538.02 683.77,-539.67 685.84,-541.21\"/>\n",
       "<polygon fill=\"#21bfd8\" stroke=\"#21bfd8\" points=\"683.84,-544.09 694.16,-546.51 687.6,-538.19 683.84,-544.09\"/>\n",
       "</g>\n",
       "<!-- clusteryoungs_modulusread_inputOutputsstress -->\n",
       "<g id=\"node14\" class=\"node\">\n",
       "<title>clusteryoungs_modulusread_inputOutputsstress</title>\n",
       "<ellipse fill=\"#edb22c\" stroke=\"#edb22c\" cx=\"615.75\" cy=\"-302.25\" rx=\"40.16\" ry=\"18\"/>\n",
       "<text text-anchor=\"middle\" x=\"615.75\" y=\"-297.57\" font-family=\"Helvetica,sans-Serif\" font-size=\"14.00\">stress</text>\n",
       "</g>\n",
       "<!-- clusteryoungs_modulusyoungs_modulusInputsstress -->\n",
       "<g id=\"node18\" class=\"node\">\n",
       "<title>clusteryoungs_modulusyoungs_modulusInputsstress</title>\n",
       "<ellipse fill=\"#edb22c\" stroke=\"#edb22c\" cx=\"775.91\" cy=\"-221.25\" rx=\"40.16\" ry=\"18\"/>\n",
       "<text text-anchor=\"middle\" x=\"775.91\" y=\"-216.57\" font-family=\"Helvetica,sans-Serif\" font-size=\"14.00\">stress</text>\n",
       "</g>\n",
       "<!-- clusteryoungs_modulusread_inputOutputsstress&#45;&gt;clusteryoungs_modulusyoungs_modulusInputsstress -->\n",
       "<g id=\"edge7\" class=\"edge\">\n",
       "<title>clusteryoungs_modulusread_inputOutputsstress&#45;&gt;clusteryoungs_modulusyoungs_modulusInputsstress</title>\n",
       "<path fill=\"none\" stroke=\"#edb22c\" d=\"M649.01,-291.89C657.44,-287.84 665.85,-282.42 671.91,-275.25 678.41,-267.57 673.88,-260.48 676.47,-253.42\"/>\n",
       "<path fill=\"none\" stroke=\"#edb22c\" d=\"M676.47,-253.42C677.11,-251.7 678.16,-249.98 679.91,-248.25 691.9,-236.4 708.69,-229.67 724.82,-225.87\"/>\n",
       "<polygon fill=\"#edb22c\" stroke=\"#edb22c\" points=\"725.21,-229.36 734.34,-223.98 723.85,-222.5 725.21,-229.36\"/>\n",
       "</g>\n",
       "<!-- clusteryoungs_modulusplotInputsstress -->\n",
       "<g id=\"node25\" class=\"node\">\n",
       "<title>clusteryoungs_modulusplotInputsstress</title>\n",
       "<ellipse fill=\"#edb22c\" stroke=\"#edb22c\" cx=\"775.91\" cy=\"-509.25\" rx=\"40.16\" ry=\"18\"/>\n",
       "<text text-anchor=\"middle\" x=\"775.91\" y=\"-504.57\" font-family=\"Helvetica,sans-Serif\" font-size=\"14.00\">stress</text>\n",
       "</g>\n",
       "<!-- clusteryoungs_modulusread_inputOutputsstress&#45;&gt;clusteryoungs_modulusplotInputsstress -->\n",
       "<g id=\"edge8\" class=\"edge\">\n",
       "<title>clusteryoungs_modulusread_inputOutputsstress&#45;&gt;clusteryoungs_modulusplotInputsstress</title>\n",
       "<path fill=\"none\" stroke=\"#edb22c\" d=\"M650.44,-311.9C658.79,-315.91 666.8,-321.51 671.91,-329.25 682.66,-345.52 676.76,-384.63 673.74,-420.07\"/>\n",
       "<path fill=\"none\" stroke=\"#edb22c\" d=\"M673.74,-420.07C671.49,-446.49 670.85,-470.88 679.91,-482.25 690.78,-495.89 708.01,-502.95 724.83,-506.51\"/>\n",
       "<polygon fill=\"#edb22c\" stroke=\"#edb22c\" points=\"723.82,-509.89 734.26,-508.12 725,-502.99 723.82,-509.89\"/>\n",
       "</g>\n",
       "<!-- clusteryoungs_modulusread_inputOutputsstrain -->\n",
       "<g id=\"node15\" class=\"node\">\n",
       "<title>clusteryoungs_modulusread_inputOutputsstrain</title>\n",
       "<ellipse fill=\"#edb22c\" stroke=\"#edb22c\" cx=\"615.75\" cy=\"-248.25\" rx=\"39.11\" ry=\"18\"/>\n",
       "<text text-anchor=\"middle\" x=\"615.75\" y=\"-243.57\" font-family=\"Helvetica,sans-Serif\" font-size=\"14.00\">strain</text>\n",
       "</g>\n",
       "<!-- clusteryoungs_modulusyoungs_modulusInputsstrain -->\n",
       "<g id=\"node19\" class=\"node\">\n",
       "<title>clusteryoungs_modulusyoungs_modulusInputsstrain</title>\n",
       "<ellipse fill=\"#edb22c\" stroke=\"#edb22c\" cx=\"775.91\" cy=\"-167.25\" rx=\"39.11\" ry=\"18\"/>\n",
       "<text text-anchor=\"middle\" x=\"775.91\" y=\"-162.57\" font-family=\"Helvetica,sans-Serif\" font-size=\"14.00\">strain</text>\n",
       "</g>\n",
       "<!-- clusteryoungs_modulusread_inputOutputsstrain&#45;&gt;clusteryoungs_modulusyoungs_modulusInputsstrain -->\n",
       "<g id=\"edge9\" class=\"edge\">\n",
       "<title>clusteryoungs_modulusread_inputOutputsstrain&#45;&gt;clusteryoungs_modulusyoungs_modulusInputsstrain</title>\n",
       "<path fill=\"none\" stroke=\"#edb22c\" d=\"M632.18,-231.67C643.18,-220.68 658.91,-206.53 675.49,-196.74\"/>\n",
       "<path fill=\"none\" stroke=\"#edb22c\" d=\"M675.49,-196.74C676.96,-195.87 678.43,-195.04 679.91,-194.25 694.62,-186.36 711.89,-180.57 727.63,-176.42\"/>\n",
       "<polygon fill=\"#edb22c\" stroke=\"#edb22c\" points=\"728.43,-179.83 737.3,-174.04 726.76,-173.03 728.43,-179.83\"/>\n",
       "</g>\n",
       "<!-- clusteryoungs_modulusplotInputsstrain -->\n",
       "<g id=\"node26\" class=\"node\">\n",
       "<title>clusteryoungs_modulusplotInputsstrain</title>\n",
       "<ellipse fill=\"#edb22c\" stroke=\"#edb22c\" cx=\"775.91\" cy=\"-455.25\" rx=\"39.11\" ry=\"18\"/>\n",
       "<text text-anchor=\"middle\" x=\"775.91\" y=\"-450.57\" font-family=\"Helvetica,sans-Serif\" font-size=\"14.00\">strain</text>\n",
       "</g>\n",
       "<!-- clusteryoungs_modulusread_inputOutputsstrain&#45;&gt;clusteryoungs_modulusplotInputsstrain -->\n",
       "<g id=\"edge10\" class=\"edge\">\n",
       "<title>clusteryoungs_modulusread_inputOutputsstrain&#45;&gt;clusteryoungs_modulusplotInputsstrain</title>\n",
       "<path fill=\"none\" stroke=\"#edb22c\" d=\"M649.76,-257.69C658.31,-261.73 666.6,-267.39 671.91,-275.25 681.66,-289.68 675.54,-328.51 675.6,-357.18\"/>\n",
       "<path fill=\"none\" stroke=\"#edb22c\" d=\"M675.6,-357.18C675.62,-368.49 676.61,-378.22 679.91,-384.25 692.66,-407.53 716.66,-425.37 737.34,-437.34\"/>\n",
       "<polygon fill=\"#edb22c\" stroke=\"#edb22c\" points=\"735.39,-440.26 745.84,-442.02 738.77,-434.13 735.39,-440.26\"/>\n",
       "</g>\n",
       "<!-- clusteryoungs_modulusyoungs_modulusInputsrun -->\n",
       "<g id=\"node16\" class=\"node\">\n",
       "<title>clusteryoungs_modulusyoungs_modulusInputsrun</title>\n",
       "<polygon fill=\"#21bfd8\" stroke=\"#21bfd8\" points=\"790.91,-341.25 748.91,-341.25 748.91,-317.25 790.91,-317.25 802.91,-329.25 790.91,-341.25\"/>\n",
       "<text text-anchor=\"middle\" x=\"775.91\" y=\"-324.57\" font-family=\"Helvetica,sans-Serif\" font-size=\"14.00\">run</text>\n",
       "</g>\n",
       "<!-- clusteryoungs_modulusyoungs_modulusOutputsran -->\n",
       "<g id=\"node21\" class=\"node\">\n",
       "<title>clusteryoungs_modulusyoungs_modulusOutputsran</title>\n",
       "<polygon fill=\"#21bfd8\" stroke=\"#21bfd8\" points=\"1000.73,-341.25 958.73,-341.25 958.73,-317.25 1000.73,-317.25 1012.73,-329.25 1000.73,-341.25\"/>\n",
       "<text text-anchor=\"middle\" x=\"985.73\" y=\"-324.57\" font-family=\"Helvetica,sans-Serif\" font-size=\"14.00\">ran</text>\n",
       "</g>\n",
       "<!-- clusteryoungs_modulusyoungs_modulusInputsrun&#45;&gt;clusteryoungs_modulusyoungs_modulusOutputsran -->\n",
       "<!-- clusteryoungs_modulusyoungs_modulusOutputsyoungs_modulus -->\n",
       "<g id=\"node22\" class=\"node\">\n",
       "<title>clusteryoungs_modulusyoungs_modulusOutputsyoungs_modulus</title>\n",
       "<ellipse fill=\"#edb22c\" stroke=\"#edb22c\" cx=\"985.73\" cy=\"-275.25\" rx=\"93.82\" ry=\"18\"/>\n",
       "<text text-anchor=\"middle\" x=\"985.73\" y=\"-270.57\" font-family=\"Helvetica,sans-Serif\" font-size=\"14.00\">youngs_modulus</text>\n",
       "</g>\n",
       "<!-- clusteryoungs_modulusyoungs_modulusOutputsyoungs_modulus&#45;&gt;clusteryoungs_modulusOutputsyoungs_modulus__youngs_modulus -->\n",
       "<g id=\"edge14\" class=\"edge\">\n",
       "<title>clusteryoungs_modulusyoungs_modulusOutputsyoungs_modulus&#45;&gt;clusteryoungs_modulusOutputsyoungs_modulus__youngs_modulus</title>\n",
       "<path fill=\"none\" stroke=\"#edb22c\" d=\"M1080.01,-275.25C1083.85,-275.25 1087.74,-275.25 1091.69,-275.25\"/>\n",
       "<path fill=\"none\" stroke=\"#edb22c\" d=\"M1091.69,-275.25C1095.64,-275.25 1099.63,-275.25 1103.67,-275.25\"/>\n",
       "<polygon fill=\"#edb22c\" stroke=\"#edb22c\" points=\"1103.65,-278.75 1113.65,-275.25 1103.65,-271.75 1103.65,-278.75\"/>\n",
       "</g>\n",
       "<!-- clusteryoungs_modulusplotInputsrun -->\n",
       "<g id=\"node23\" class=\"node\">\n",
       "<title>clusteryoungs_modulusplotInputsrun</title>\n",
       "<polygon fill=\"#21bfd8\" stroke=\"#21bfd8\" points=\"790.91,-629.25 748.91,-629.25 748.91,-605.25 790.91,-605.25 802.91,-617.25 790.91,-629.25\"/>\n",
       "<text text-anchor=\"middle\" x=\"775.91\" y=\"-612.58\" font-family=\"Helvetica,sans-Serif\" font-size=\"14.00\">run</text>\n",
       "</g>\n",
       "<!-- clusteryoungs_modulusplotOutputsran -->\n",
       "<g id=\"node27\" class=\"node\">\n",
       "<title>clusteryoungs_modulusplotOutputsran</title>\n",
       "<polygon fill=\"#21bfd8\" stroke=\"#21bfd8\" points=\"1000.73,-575.25 958.73,-575.25 958.73,-551.25 1000.73,-551.25 1012.73,-563.25 1000.73,-575.25\"/>\n",
       "<text text-anchor=\"middle\" x=\"985.73\" y=\"-558.58\" font-family=\"Helvetica,sans-Serif\" font-size=\"14.00\">ran</text>\n",
       "</g>\n",
       "<!-- clusteryoungs_modulusplotInputsrun&#45;&gt;clusteryoungs_modulusplotOutputsran -->\n",
       "<!-- clusteryoungs_modulusplotOutputs1 -->\n",
       "<g id=\"node28\" class=\"node\">\n",
       "<title>clusteryoungs_modulusplotOutputs1</title>\n",
       "<ellipse fill=\"#edb22c\" stroke=\"#edb22c\" cx=\"985.73\" cy=\"-509.25\" rx=\"27\" ry=\"18\"/>\n",
       "<text text-anchor=\"middle\" x=\"985.73\" y=\"-504.57\" font-family=\"Helvetica,sans-Serif\" font-size=\"14.00\">1</text>\n",
       "</g>\n",
       "<!-- clusteryoungs_modulusplotOutputs1&#45;&gt;clusteryoungs_modulusOutputsplot__1 -->\n",
       "<g id=\"edge15\" class=\"edge\">\n",
       "<title>clusteryoungs_modulusplotOutputs1&#45;&gt;clusteryoungs_modulusOutputsplot__1</title>\n",
       "<path fill=\"none\" stroke=\"#edb22c\" d=\"M1006.84,-497.72C1032.83,-482.8 1080.69,-455.34 1130.33,-426.86\"/>\n",
       "<path fill=\"none\" stroke=\"#edb22c\" d=\"M1130.33,-426.86C1179.98,-398.37 1231.4,-368.87 1264.53,-349.86\"/>\n",
       "<polygon fill=\"#edb22c\" stroke=\"#edb22c\" points=\"1266.27,-352.9 1273.2,-344.88 1262.79,-346.82 1266.27,-352.9\"/>\n",
       "</g>\n",
       "</g>\n",
       "</svg>\n"
      ],
      "text/plain": [
       "<graphviz.graphs.Digraph at 0x7fe320709690>"
      ]
     },
     "execution_count": 9,
     "metadata": {},
     "output_type": "execute_result"
    }
   ],
   "source": [
    "wf.draw(size=(15,20))"
   ]
  },
  {
   "cell_type": "code",
   "execution_count": 41,
   "id": "c3d279f3-a73b-43c0-be9b-9b26ec43fe83",
   "metadata": {},
   "outputs": [],
   "source": [
    "@Workflow.wrap_as.macro_node(\"youngs_modulus\")\n",
    "def YoungsModulus(wf, filename, area, strain_cutoff):\n",
    "    \"\"\"\n",
    "    The graph constructor a Macro expects must take the macro as its only argument\n",
    "    (i.e. \"self\" from the macro's perspective) and return nothing.\n",
    "    Inside, it should add nodes to the macro, wire their connections, etc.\n",
    "    \"\"\"\n",
    "    wf.read_input = read_input(filename, area)\n",
    "    wf.youngs_modulus = calculate_youngs_modulus(wf.read_input.outputs.stress,\n",
    "                                            wf.read_input.outputs.strain,\n",
    "                                            strain_cutoff)\n",
    "    return wf.youngs_modulus.outputs.youngs_modulus\n",
    "    \n",
    "macro = YoungsModulus()"
   ]
  },
  {
   "cell_type": "code",
   "execution_count": 30,
   "id": "f89ddd29-a87e-4d9c-a01b-320fe9ce160b",
   "metadata": {},
   "outputs": [
    {
     "name": "stderr",
     "output_type": "stream",
     "text": [
      "/home/menon/miniconda3/envs/pyiron-workflow/lib/python3.11/site-packages/pyiron_workflow/node.py:767: UserWarning: The keyword 'storage_backend' was not found among input labels. If you are trying to update a node keyword, please use attribute assignment directly instead of calling\n",
      "  warnings.warn(\n"
     ]
    },
    {
     "data": {
      "text/plain": [
       "{'youngs_modulus': 188.4145327564868}"
      ]
     },
     "execution_count": 30,
     "metadata": {},
     "output_type": "execute_result"
    }
   ],
   "source": [
    "macro(filename='dataset_1.csv', area=120.636, strain_cutoff=0.2, storage_backend=\"tinybase\")"
   ]
  },
  {
   "cell_type": "code",
   "execution_count": 31,
   "id": "43a969db-c1f8-4412-85fb-6efbb908b825",
   "metadata": {},
   "outputs": [
    {
     "name": "stderr",
     "output_type": "stream",
     "text": [
      "/home/menon/miniconda3/envs/pyiron-workflow/lib/python3.11/site-packages/pyiron_workflow/node.py:1282: UserWarning: YoungsModulus is only defined in __main__\n",
      "  warnings.warn(f\"{self.label} is only defined in __main__\")\n",
      "/home/menon/miniconda3/envs/pyiron-workflow/lib/python3.11/site-packages/pyiron_workflow/node.py:1282: UserWarning: read_input is only defined in __main__\n",
      "  warnings.warn(f\"{self.label} is only defined in __main__\")\n",
      "/home/menon/miniconda3/envs/pyiron-workflow/lib/python3.11/site-packages/pyiron_workflow/node.py:1282: UserWarning: youngs_modulus is only defined in __main__\n",
      "  warnings.warn(f\"{self.label} is only defined in __main__\")\n"
     ]
    },
    {
     "ename": "TypeNotFoundError",
     "evalue": "YoungsModulus cannot be saved because it (or one of its child nodes) has a type that cannot be imported. Did you dynamically define this node? Try using the node wrapper as a decorator instead. \nImport readiness report: \nYoungsModulus: NOT IMPORTABLE\n\tfilename: ok\n\tarea: ok\n\tstrain_cutoff: ok\n\tread_input: NOT IMPORTABLE\n\tyoungs_modulus: NOT IMPORTABLE",
     "output_type": "error",
     "traceback": [
      "\u001b[0;31m---------------------------------------------------------------------------\u001b[0m",
      "\u001b[0;31mTypeNotFoundError\u001b[0m                         Traceback (most recent call last)",
      "Cell \u001b[0;32mIn[31], line 1\u001b[0m\n\u001b[0;32m----> 1\u001b[0m \u001b[43mmacro\u001b[49m\u001b[38;5;241;43m.\u001b[39;49m\u001b[43msave\u001b[49m\u001b[43m(\u001b[49m\u001b[43m)\u001b[49m\n",
      "File \u001b[0;32m~/miniconda3/envs/pyiron-workflow/lib/python3.11/site-packages/pyiron_workflow/node.py:1216\u001b[0m, in \u001b[0;36mNode.save\u001b[0;34m(self)\u001b[0m\n\u001b[1;32m   1210\u001b[0m \u001b[38;5;250m\u001b[39m\u001b[38;5;124;03m\"\"\"\u001b[39;00m\n\u001b[1;32m   1211\u001b[0m \u001b[38;5;124;03mWrites the node to file (using HDF5) such that a new node instance of the same\u001b[39;00m\n\u001b[1;32m   1212\u001b[0m \u001b[38;5;124;03mtype can :meth:`load()` the data to return to the same state as the save point,\u001b[39;00m\n\u001b[1;32m   1213\u001b[0m \u001b[38;5;124;03mi.e. the same data IO channel values, the same flags, etc.\u001b[39;00m\n\u001b[1;32m   1214\u001b[0m \u001b[38;5;124;03m\"\"\"\u001b[39;00m\n\u001b[1;32m   1215\u001b[0m backend \u001b[38;5;241m=\u001b[39m \u001b[38;5;124m\"\u001b[39m\u001b[38;5;124mh5io\u001b[39m\u001b[38;5;124m\"\u001b[39m \u001b[38;5;28;01mif\u001b[39;00m \u001b[38;5;28mself\u001b[39m\u001b[38;5;241m.\u001b[39mstorage_backend \u001b[38;5;129;01mis\u001b[39;00m \u001b[38;5;28;01mNone\u001b[39;00m \u001b[38;5;28;01melse\u001b[39;00m \u001b[38;5;28mself\u001b[39m\u001b[38;5;241m.\u001b[39mstorage_backend\n\u001b[0;32m-> 1216\u001b[0m \u001b[38;5;28;43mself\u001b[39;49m\u001b[38;5;241;43m.\u001b[39;49m\u001b[43mstorage\u001b[49m\u001b[38;5;241;43m.\u001b[39;49m\u001b[43msave\u001b[49m\u001b[43m(\u001b[49m\u001b[43mbackend\u001b[49m\u001b[38;5;241;43m=\u001b[39;49m\u001b[43mbackend\u001b[49m\u001b[43m)\u001b[49m\n",
      "File \u001b[0;32m~/miniconda3/envs/pyiron-workflow/lib/python3.11/site-packages/pyiron_workflow/storage.py:47\u001b[0m, in \u001b[0;36mStorageInterface.save\u001b[0;34m(self, backend)\u001b[0m\n\u001b[1;32m     41\u001b[0m     \u001b[38;5;28;01mraise\u001b[39;00m \u001b[38;5;167;01mValueError\u001b[39;00m(\n\u001b[1;32m     42\u001b[0m         \u001b[38;5;124mf\u001b[39m\u001b[38;5;124m\"\u001b[39m\u001b[38;5;124mBackend \u001b[39m\u001b[38;5;132;01m{\u001b[39;00mbackend\u001b[38;5;132;01m}\u001b[39;00m\u001b[38;5;124m not recognized, please use one of \u001b[39m\u001b[38;5;124m\"\u001b[39m\n\u001b[1;32m     43\u001b[0m         \u001b[38;5;124mf\u001b[39m\u001b[38;5;124m\"\u001b[39m\u001b[38;5;132;01m{\u001b[39;00mALLOWED_BACKENDS\u001b[38;5;132;01m}\u001b[39;00m\u001b[38;5;124m.\u001b[39m\u001b[38;5;124m\"\u001b[39m\n\u001b[1;32m     44\u001b[0m     )\n\u001b[1;32m     46\u001b[0m \u001b[38;5;28;01mif\u001b[39;00m \u001b[38;5;28mself\u001b[39m\u001b[38;5;241m.\u001b[39mnode\u001b[38;5;241m.\u001b[39mparent \u001b[38;5;129;01mis\u001b[39;00m \u001b[38;5;28;01mNone\u001b[39;00m:\n\u001b[0;32m---> 47\u001b[0m     \u001b[38;5;28;43mself\u001b[39;49m\u001b[38;5;241;43m.\u001b[39;49m\u001b[43m_save\u001b[49m\u001b[43m(\u001b[49m\u001b[43mbackend\u001b[49m\u001b[38;5;241;43m=\u001b[39;49m\u001b[43mbackend\u001b[49m\u001b[43m)\u001b[49m\n\u001b[1;32m     48\u001b[0m \u001b[38;5;28;01melse\u001b[39;00m:\n\u001b[1;32m     49\u001b[0m     root \u001b[38;5;241m=\u001b[39m \u001b[38;5;28mself\u001b[39m\u001b[38;5;241m.\u001b[39mnode\u001b[38;5;241m.\u001b[39mgraph_root\n",
      "File \u001b[0;32m~/miniconda3/envs/pyiron-workflow/lib/python3.11/site-packages/pyiron_workflow/storage.py:54\u001b[0m, in \u001b[0;36mStorageInterface._save\u001b[0;34m(self, backend)\u001b[0m\n\u001b[1;32m     52\u001b[0m \u001b[38;5;28;01mdef\u001b[39;00m \u001b[38;5;21m_save\u001b[39m(\u001b[38;5;28mself\u001b[39m, backend: Literal[\u001b[38;5;124m\"\u001b[39m\u001b[38;5;124mh5io\u001b[39m\u001b[38;5;124m\"\u001b[39m, \u001b[38;5;124m\"\u001b[39m\u001b[38;5;124mtinybase\u001b[39m\u001b[38;5;124m\"\u001b[39m]):\n\u001b[1;32m     53\u001b[0m     \u001b[38;5;28;01mif\u001b[39;00m \u001b[38;5;129;01mnot\u001b[39;00m \u001b[38;5;28mself\u001b[39m\u001b[38;5;241m.\u001b[39mnode\u001b[38;5;241m.\u001b[39mimport_ready:\n\u001b[0;32m---> 54\u001b[0m         \u001b[38;5;28;01mraise\u001b[39;00m TypeNotFoundError(\n\u001b[1;32m     55\u001b[0m             \u001b[38;5;124mf\u001b[39m\u001b[38;5;124m\"\u001b[39m\u001b[38;5;132;01m{\u001b[39;00m\u001b[38;5;28mself\u001b[39m\u001b[38;5;241m.\u001b[39mnode\u001b[38;5;241m.\u001b[39mlabel\u001b[38;5;132;01m}\u001b[39;00m\u001b[38;5;124m cannot be saved because it (or one \u001b[39m\u001b[38;5;124m\"\u001b[39m\n\u001b[1;32m     56\u001b[0m             \u001b[38;5;124mf\u001b[39m\u001b[38;5;124m\"\u001b[39m\u001b[38;5;124mof its child nodes) has a type that cannot be imported. Did you \u001b[39m\u001b[38;5;124m\"\u001b[39m\n\u001b[1;32m     57\u001b[0m             \u001b[38;5;124mf\u001b[39m\u001b[38;5;124m\"\u001b[39m\u001b[38;5;124mdynamically define this node? Try using the node wrapper as a \u001b[39m\u001b[38;5;124m\"\u001b[39m\n\u001b[1;32m     58\u001b[0m             \u001b[38;5;124mf\u001b[39m\u001b[38;5;124m\"\u001b[39m\u001b[38;5;124mdecorator instead. \u001b[39m\u001b[38;5;130;01m\\n\u001b[39;00m\u001b[38;5;124m\"\u001b[39m\n\u001b[1;32m     59\u001b[0m             \u001b[38;5;124mf\u001b[39m\u001b[38;5;124m\"\u001b[39m\u001b[38;5;124mImport readiness report: \u001b[39m\u001b[38;5;130;01m\\n\u001b[39;00m\u001b[38;5;124m\"\u001b[39m\n\u001b[1;32m     60\u001b[0m             \u001b[38;5;124mf\u001b[39m\u001b[38;5;124m\"\u001b[39m\u001b[38;5;132;01m{\u001b[39;00m\u001b[38;5;28mself\u001b[39m\u001b[38;5;241m.\u001b[39mnode\u001b[38;5;241m.\u001b[39m_report_import_readiness()\u001b[38;5;132;01m}\u001b[39;00m\u001b[38;5;124m\"\u001b[39m\n\u001b[1;32m     61\u001b[0m         )\n\u001b[1;32m     62\u001b[0m     \u001b[38;5;28;01mif\u001b[39;00m backend \u001b[38;5;241m==\u001b[39m \u001b[38;5;124m\"\u001b[39m\u001b[38;5;124mh5io\u001b[39m\u001b[38;5;124m\"\u001b[39m:\n\u001b[1;32m     63\u001b[0m         h5io\u001b[38;5;241m.\u001b[39mwrite_hdf5(\n\u001b[1;32m     64\u001b[0m             fname\u001b[38;5;241m=\u001b[39m\u001b[38;5;28mself\u001b[39m\u001b[38;5;241m.\u001b[39m_h5io_storage_file_path,\n\u001b[1;32m     65\u001b[0m             data\u001b[38;5;241m=\u001b[39m\u001b[38;5;28mself\u001b[39m\u001b[38;5;241m.\u001b[39mnode,\n\u001b[0;32m   (...)\u001b[0m\n\u001b[1;32m     68\u001b[0m             overwrite\u001b[38;5;241m=\u001b[39m\u001b[38;5;28;01mTrue\u001b[39;00m,  \u001b[38;5;66;03m# Don't worry about efficiency or updating yet\u001b[39;00m\n\u001b[1;32m     69\u001b[0m         )\n",
      "\u001b[0;31mTypeNotFoundError\u001b[0m: YoungsModulus cannot be saved because it (or one of its child nodes) has a type that cannot be imported. Did you dynamically define this node? Try using the node wrapper as a decorator instead. \nImport readiness report: \nYoungsModulus: NOT IMPORTABLE\n\tfilename: ok\n\tarea: ok\n\tstrain_cutoff: ok\n\tread_input: NOT IMPORTABLE\n\tyoungs_modulus: NOT IMPORTABLE"
     ]
    }
   ],
   "source": [
    "macro.save()"
   ]
  },
  {
   "cell_type": "code",
   "execution_count": 32,
   "id": "84088aac-6ded-402b-8123-5b6e49a69e32",
   "metadata": {},
   "outputs": [],
   "source": [
    "import pyiron_workflow.job\n",
    "from pyiron_workflow.job import create_job_with_python_wrapper"
   ]
  },
  {
   "cell_type": "code",
   "execution_count": 21,
   "id": "cd57c7fd-ab47-476c-be9a-ddd1f2fa6f92",
   "metadata": {},
   "outputs": [],
   "source": [
    "pr = Project('fgg')"
   ]
  },
  {
   "cell_type": "code",
   "execution_count": 42,
   "id": "880207d9-e71b-4c95-ab4e-34084c46b3f7",
   "metadata": {},
   "outputs": [],
   "source": [
    "nj = create_job_with_python_wrapper(pr, macro)"
   ]
  },
  {
   "cell_type": "code",
   "execution_count": 43,
   "id": "dc9d49d5-10f0-4df2-b7db-d9beb312edd5",
   "metadata": {},
   "outputs": [
    {
     "data": {
      "application/json": {
       "node": "<__main__.YoungsModulus object at 0x7fe315783e50>"
      },
      "text/html": [
       "<pre>DataContainer({\n",
       "  \"node\": \"<__main__.YoungsModulus object at 0x7fe315783e50>\"\n",
       "})</pre>"
      ],
      "text/plain": [
       "DataContainer({'node': <__main__.YoungsModulus object at 0x7fe315783e50>})"
      ]
     },
     "execution_count": 43,
     "metadata": {},
     "output_type": "execute_result"
    }
   ],
   "source": [
    "nj.input"
   ]
  },
  {
   "cell_type": "code",
   "execution_count": 44,
   "id": "8887105f-36f6-48b6-997a-85a1f2c185e0",
   "metadata": {},
   "outputs": [
    {
     "name": "stdout",
     "output_type": "stream",
     "text": [
      "The job _run_node06eef8f7f1dc4dd70c6f5d7035c048ac was saved and received the ID: 2225\n"
     ]
    },
    {
     "ename": "ReadinessError",
     "evalue": "YoungsModulus received a run command but is not ready. The node should be neither running nor failed, and all input values should conform to type hints.\nYoungsModulus readiness: False\nSTATE:\nrunning: False\nfailed: False\nINPUTS:\nfilename ready: False\narea ready: False\nstrain_cutoff ready: False",
     "output_type": "error",
     "traceback": [
      "\u001b[0;31m---------------------------------------------------------------------------\u001b[0m",
      "\u001b[0;31mReadinessError\u001b[0m                            Traceback (most recent call last)",
      "Cell \u001b[0;32mIn[44], line 1\u001b[0m\n\u001b[0;32m----> 1\u001b[0m \u001b[43mnj\u001b[49m\u001b[38;5;241;43m.\u001b[39;49m\u001b[43mrun\u001b[49m\u001b[43m(\u001b[49m\u001b[43m)\u001b[49m\n",
      "File \u001b[0;32m~/miniconda3/envs/pyiron-workflow/lib/python3.11/site-packages/pyiron_base/utils/deprecate.py:171\u001b[0m, in \u001b[0;36mDeprecator.__deprecate_argument.<locals>.decorated\u001b[0;34m(*args, **kwargs)\u001b[0m\n\u001b[1;32m    161\u001b[0m     \u001b[38;5;28;01mif\u001b[39;00m kw \u001b[38;5;129;01min\u001b[39;00m \u001b[38;5;28mself\u001b[39m\u001b[38;5;241m.\u001b[39marguments:\n\u001b[1;32m    162\u001b[0m         warnings\u001b[38;5;241m.\u001b[39mwarn(\n\u001b[1;32m    163\u001b[0m             message_format\u001b[38;5;241m.\u001b[39mformat(\n\u001b[1;32m    164\u001b[0m                 \u001b[38;5;124m\"\u001b[39m\u001b[38;5;132;01m{}\u001b[39;00m\u001b[38;5;124m.\u001b[39m\u001b[38;5;132;01m{}\u001b[39;00m\u001b[38;5;124m(\u001b[39m\u001b[38;5;132;01m{}\u001b[39;00m\u001b[38;5;124m=\u001b[39m\u001b[38;5;132;01m{}\u001b[39;00m\u001b[38;5;124m)\u001b[39m\u001b[38;5;124m\"\u001b[39m\u001b[38;5;241m.\u001b[39mformat(\n\u001b[0;32m   (...)\u001b[0m\n\u001b[1;32m    169\u001b[0m             stacklevel\u001b[38;5;241m=\u001b[39m\u001b[38;5;241m2\u001b[39m,\n\u001b[1;32m    170\u001b[0m         )\n\u001b[0;32m--> 171\u001b[0m \u001b[38;5;28;01mreturn\u001b[39;00m \u001b[43mfunction\u001b[49m\u001b[43m(\u001b[49m\u001b[38;5;241;43m*\u001b[39;49m\u001b[43margs\u001b[49m\u001b[43m,\u001b[49m\u001b[43m \u001b[49m\u001b[38;5;241;43m*\u001b[39;49m\u001b[38;5;241;43m*\u001b[39;49m\u001b[43mkwargs\u001b[49m\u001b[43m)\u001b[49m\n",
      "File \u001b[0;32m~/miniconda3/envs/pyiron-workflow/lib/python3.11/site-packages/pyiron_base/jobs/job/generic.py:729\u001b[0m, in \u001b[0;36mGenericJob.run\u001b[0;34m(self, delete_existing_job, repair, debug, run_mode, run_again)\u001b[0m\n\u001b[1;32m    727\u001b[0m     \u001b[38;5;28mself\u001b[39m\u001b[38;5;241m.\u001b[39m_run_if_repair()\n\u001b[1;32m    728\u001b[0m \u001b[38;5;28;01melif\u001b[39;00m status \u001b[38;5;241m==\u001b[39m \u001b[38;5;124m\"\u001b[39m\u001b[38;5;124minitialized\u001b[39m\u001b[38;5;124m\"\u001b[39m:\n\u001b[0;32m--> 729\u001b[0m     \u001b[38;5;28;43mself\u001b[39;49m\u001b[38;5;241;43m.\u001b[39;49m\u001b[43m_run_if_new\u001b[49m\u001b[43m(\u001b[49m\u001b[43mdebug\u001b[49m\u001b[38;5;241;43m=\u001b[39;49m\u001b[43mdebug\u001b[49m\u001b[43m)\u001b[49m\n\u001b[1;32m    730\u001b[0m \u001b[38;5;28;01melif\u001b[39;00m status \u001b[38;5;241m==\u001b[39m \u001b[38;5;124m\"\u001b[39m\u001b[38;5;124mcreated\u001b[39m\u001b[38;5;124m\"\u001b[39m:\n\u001b[1;32m    731\u001b[0m     \u001b[38;5;28mself\u001b[39m\u001b[38;5;241m.\u001b[39m_run_if_created()\n",
      "File \u001b[0;32m~/miniconda3/envs/pyiron-workflow/lib/python3.11/site-packages/pyiron_base/jobs/job/generic.py:1245\u001b[0m, in \u001b[0;36mGenericJob._run_if_new\u001b[0;34m(self, debug)\u001b[0m\n\u001b[1;32m   1237\u001b[0m \u001b[38;5;28;01mdef\u001b[39;00m \u001b[38;5;21m_run_if_new\u001b[39m(\u001b[38;5;28mself\u001b[39m, debug\u001b[38;5;241m=\u001b[39m\u001b[38;5;28;01mFalse\u001b[39;00m):\n\u001b[1;32m   1238\u001b[0m \u001b[38;5;250m    \u001b[39m\u001b[38;5;124;03m\"\"\"\u001b[39;00m\n\u001b[1;32m   1239\u001b[0m \u001b[38;5;124;03m    Internal helper function the run if new function is called when the job status is 'initialized'. It prepares\u001b[39;00m\n\u001b[1;32m   1240\u001b[0m \u001b[38;5;124;03m    the hdf5 file and the corresponding directory structure.\u001b[39;00m\n\u001b[0;32m   (...)\u001b[0m\n\u001b[1;32m   1243\u001b[0m \u001b[38;5;124;03m        debug (bool): Debug Mode\u001b[39;00m\n\u001b[1;32m   1244\u001b[0m \u001b[38;5;124;03m    \"\"\"\u001b[39;00m\n\u001b[0;32m-> 1245\u001b[0m     \u001b[43mrun_job_with_status_initialized\u001b[49m\u001b[43m(\u001b[49m\u001b[43mjob\u001b[49m\u001b[38;5;241;43m=\u001b[39;49m\u001b[38;5;28;43mself\u001b[39;49m\u001b[43m,\u001b[49m\u001b[43m \u001b[49m\u001b[43mdebug\u001b[49m\u001b[38;5;241;43m=\u001b[39;49m\u001b[43mdebug\u001b[49m\u001b[43m)\u001b[49m\n",
      "File \u001b[0;32m~/miniconda3/envs/pyiron-workflow/lib/python3.11/site-packages/pyiron_base/jobs/job/runfunction.py:91\u001b[0m, in \u001b[0;36mrun_job_with_status_initialized\u001b[0;34m(job, debug)\u001b[0m\n\u001b[1;32m     89\u001b[0m \u001b[38;5;28;01melse\u001b[39;00m:\n\u001b[1;32m     90\u001b[0m     job\u001b[38;5;241m.\u001b[39msave()\n\u001b[0;32m---> 91\u001b[0m     \u001b[43mjob\u001b[49m\u001b[38;5;241;43m.\u001b[39;49m\u001b[43mrun\u001b[49m\u001b[43m(\u001b[49m\u001b[43m)\u001b[49m\n",
      "File \u001b[0;32m~/miniconda3/envs/pyiron-workflow/lib/python3.11/site-packages/pyiron_base/utils/deprecate.py:171\u001b[0m, in \u001b[0;36mDeprecator.__deprecate_argument.<locals>.decorated\u001b[0;34m(*args, **kwargs)\u001b[0m\n\u001b[1;32m    161\u001b[0m     \u001b[38;5;28;01mif\u001b[39;00m kw \u001b[38;5;129;01min\u001b[39;00m \u001b[38;5;28mself\u001b[39m\u001b[38;5;241m.\u001b[39marguments:\n\u001b[1;32m    162\u001b[0m         warnings\u001b[38;5;241m.\u001b[39mwarn(\n\u001b[1;32m    163\u001b[0m             message_format\u001b[38;5;241m.\u001b[39mformat(\n\u001b[1;32m    164\u001b[0m                 \u001b[38;5;124m\"\u001b[39m\u001b[38;5;132;01m{}\u001b[39;00m\u001b[38;5;124m.\u001b[39m\u001b[38;5;132;01m{}\u001b[39;00m\u001b[38;5;124m(\u001b[39m\u001b[38;5;132;01m{}\u001b[39;00m\u001b[38;5;124m=\u001b[39m\u001b[38;5;132;01m{}\u001b[39;00m\u001b[38;5;124m)\u001b[39m\u001b[38;5;124m\"\u001b[39m\u001b[38;5;241m.\u001b[39mformat(\n\u001b[0;32m   (...)\u001b[0m\n\u001b[1;32m    169\u001b[0m             stacklevel\u001b[38;5;241m=\u001b[39m\u001b[38;5;241m2\u001b[39m,\n\u001b[1;32m    170\u001b[0m         )\n\u001b[0;32m--> 171\u001b[0m \u001b[38;5;28;01mreturn\u001b[39;00m \u001b[43mfunction\u001b[49m\u001b[43m(\u001b[49m\u001b[38;5;241;43m*\u001b[39;49m\u001b[43margs\u001b[49m\u001b[43m,\u001b[49m\u001b[43m \u001b[49m\u001b[38;5;241;43m*\u001b[39;49m\u001b[38;5;241;43m*\u001b[39;49m\u001b[43mkwargs\u001b[49m\u001b[43m)\u001b[49m\n",
      "File \u001b[0;32m~/miniconda3/envs/pyiron-workflow/lib/python3.11/site-packages/pyiron_base/jobs/job/generic.py:731\u001b[0m, in \u001b[0;36mGenericJob.run\u001b[0;34m(self, delete_existing_job, repair, debug, run_mode, run_again)\u001b[0m\n\u001b[1;32m    729\u001b[0m     \u001b[38;5;28mself\u001b[39m\u001b[38;5;241m.\u001b[39m_run_if_new(debug\u001b[38;5;241m=\u001b[39mdebug)\n\u001b[1;32m    730\u001b[0m \u001b[38;5;28;01melif\u001b[39;00m status \u001b[38;5;241m==\u001b[39m \u001b[38;5;124m\"\u001b[39m\u001b[38;5;124mcreated\u001b[39m\u001b[38;5;124m\"\u001b[39m:\n\u001b[0;32m--> 731\u001b[0m     \u001b[38;5;28;43mself\u001b[39;49m\u001b[38;5;241;43m.\u001b[39;49m\u001b[43m_run_if_created\u001b[49m\u001b[43m(\u001b[49m\u001b[43m)\u001b[49m\n\u001b[1;32m    732\u001b[0m \u001b[38;5;28;01melif\u001b[39;00m status \u001b[38;5;241m==\u001b[39m \u001b[38;5;124m\"\u001b[39m\u001b[38;5;124msubmitted\u001b[39m\u001b[38;5;124m\"\u001b[39m:\n\u001b[1;32m    733\u001b[0m     run_job_with_status_submitted(job\u001b[38;5;241m=\u001b[39m\u001b[38;5;28mself\u001b[39m)\n",
      "File \u001b[0;32m~/miniconda3/envs/pyiron-workflow/lib/python3.11/site-packages/pyiron_base/jobs/job/generic.py:1256\u001b[0m, in \u001b[0;36mGenericJob._run_if_created\u001b[0;34m(self)\u001b[0m\n\u001b[1;32m   1247\u001b[0m \u001b[38;5;28;01mdef\u001b[39;00m \u001b[38;5;21m_run_if_created\u001b[39m(\u001b[38;5;28mself\u001b[39m):\n\u001b[1;32m   1248\u001b[0m \u001b[38;5;250m    \u001b[39m\u001b[38;5;124;03m\"\"\"\u001b[39;00m\n\u001b[1;32m   1249\u001b[0m \u001b[38;5;124;03m    Internal helper function the run if created function is called when the job status is 'created'. It executes\u001b[39;00m\n\u001b[1;32m   1250\u001b[0m \u001b[38;5;124;03m    the simulation, either in modal mode, meaning waiting for the simulation to finish, manually, or submits the\u001b[39;00m\n\u001b[0;32m   (...)\u001b[0m\n\u001b[1;32m   1254\u001b[0m \u001b[38;5;124;03m        int: Queue ID - if the job was send to the queue\u001b[39;00m\n\u001b[1;32m   1255\u001b[0m \u001b[38;5;124;03m    \"\"\"\u001b[39;00m\n\u001b[0;32m-> 1256\u001b[0m     \u001b[38;5;28;01mreturn\u001b[39;00m \u001b[43mrun_job_with_status_created\u001b[49m\u001b[43m(\u001b[49m\u001b[43mjob\u001b[49m\u001b[38;5;241;43m=\u001b[39;49m\u001b[38;5;28;43mself\u001b[39;49m\u001b[43m)\u001b[49m\n",
      "File \u001b[0;32m~/miniconda3/envs/pyiron-workflow/lib/python3.11/site-packages/pyiron_base/jobs/job/runfunction.py:114\u001b[0m, in \u001b[0;36mrun_job_with_status_created\u001b[0;34m(job)\u001b[0m\n\u001b[1;32m    112\u001b[0m     run_job_with_runmode_manually(job\u001b[38;5;241m=\u001b[39mjob, _manually_print\u001b[38;5;241m=\u001b[39m\u001b[38;5;28;01mTrue\u001b[39;00m)\n\u001b[1;32m    113\u001b[0m \u001b[38;5;28;01melif\u001b[39;00m job\u001b[38;5;241m.\u001b[39mserver\u001b[38;5;241m.\u001b[39mrun_mode\u001b[38;5;241m.\u001b[39mmodal:\n\u001b[0;32m--> 114\u001b[0m     \u001b[43mjob\u001b[49m\u001b[38;5;241;43m.\u001b[39;49m\u001b[43mrun_static\u001b[49m\u001b[43m(\u001b[49m\u001b[43m)\u001b[49m\n\u001b[1;32m    115\u001b[0m \u001b[38;5;28;01melif\u001b[39;00m job\u001b[38;5;241m.\u001b[39mserver\u001b[38;5;241m.\u001b[39mrun_mode\u001b[38;5;241m.\u001b[39msrun:\n\u001b[1;32m    116\u001b[0m     run_job_with_runmode_srun(job\u001b[38;5;241m=\u001b[39mjob)\n",
      "File \u001b[0;32m~/miniconda3/envs/pyiron-workflow/lib/python3.11/site-packages/pyiron_base/jobs/flex/pythonfunctioncontainer.py:85\u001b[0m, in \u001b[0;36mPythonFunctionContainerJob.run_static\u001b[0;34m(self)\u001b[0m\n\u001b[1;32m     84\u001b[0m \u001b[38;5;28;01mdef\u001b[39;00m \u001b[38;5;21mrun_static\u001b[39m(\u001b[38;5;28mself\u001b[39m):\n\u001b[0;32m---> 85\u001b[0m     output \u001b[38;5;241m=\u001b[39m \u001b[38;5;28;43mself\u001b[39;49m\u001b[38;5;241;43m.\u001b[39;49m\u001b[43m_function\u001b[49m\u001b[43m(\u001b[49m\u001b[38;5;241;43m*\u001b[39;49m\u001b[38;5;241;43m*\u001b[39;49m\u001b[38;5;28;43mself\u001b[39;49m\u001b[38;5;241;43m.\u001b[39;49m\u001b[43minput\u001b[49m\u001b[38;5;241;43m.\u001b[39;49m\u001b[43mto_builtin\u001b[49m\u001b[43m(\u001b[49m\u001b[43m)\u001b[49m\u001b[43m)\u001b[49m\n\u001b[1;32m     86\u001b[0m     \u001b[38;5;28mself\u001b[39m\u001b[38;5;241m.\u001b[39moutput\u001b[38;5;241m.\u001b[39mupdate({\u001b[38;5;124m\"\u001b[39m\u001b[38;5;124mresult\u001b[39m\u001b[38;5;124m\"\u001b[39m: output})\n\u001b[1;32m     87\u001b[0m     \u001b[38;5;28mself\u001b[39m\u001b[38;5;241m.\u001b[39mto_hdf()\n",
      "File \u001b[0;32m~/miniconda3/envs/pyiron-workflow/lib/python3.11/site-packages/pyiron_workflow/job.py:172\u001b[0m, in \u001b[0;36m_run_node\u001b[0;34m(node)\u001b[0m\n\u001b[1;32m    171\u001b[0m \u001b[38;5;28;01mdef\u001b[39;00m \u001b[38;5;21m_run_node\u001b[39m(node):\n\u001b[0;32m--> 172\u001b[0m     \u001b[43mnode\u001b[49m\u001b[38;5;241;43m.\u001b[39;49m\u001b[43mrun\u001b[49m\u001b[43m(\u001b[49m\u001b[43m)\u001b[49m\n\u001b[1;32m    173\u001b[0m     \u001b[38;5;28;01mreturn\u001b[39;00m node\n",
      "File \u001b[0;32m~/miniconda3/envs/pyiron-workflow/lib/python3.11/site-packages/pyiron_workflow/node.py:539\u001b[0m, in \u001b[0;36mNode.run\u001b[0;34m(self, run_data_tree, run_parent_trees_too, fetch_input, check_readiness, force_local_execution, emit_ran_signal, **kwargs)\u001b[0m\n\u001b[1;32m    536\u001b[0m     \u001b[38;5;28mself\u001b[39m\u001b[38;5;241m.\u001b[39minputs\u001b[38;5;241m.\u001b[39mfetch()\n\u001b[1;32m    538\u001b[0m \u001b[38;5;28;01mif\u001b[39;00m check_readiness \u001b[38;5;129;01mand\u001b[39;00m \u001b[38;5;129;01mnot\u001b[39;00m \u001b[38;5;28mself\u001b[39m\u001b[38;5;241m.\u001b[39mready:\n\u001b[0;32m--> 539\u001b[0m     \u001b[38;5;28;01mraise\u001b[39;00m ReadinessError(\n\u001b[1;32m    540\u001b[0m         \u001b[38;5;124mf\u001b[39m\u001b[38;5;124m\"\u001b[39m\u001b[38;5;132;01m{\u001b[39;00m\u001b[38;5;28mself\u001b[39m\u001b[38;5;241m.\u001b[39mlabel\u001b[38;5;132;01m}\u001b[39;00m\u001b[38;5;124m received a run command but is not ready. The node \u001b[39m\u001b[38;5;124m\"\u001b[39m\n\u001b[1;32m    541\u001b[0m         \u001b[38;5;124mf\u001b[39m\u001b[38;5;124m\"\u001b[39m\u001b[38;5;124mshould be neither running nor failed, and all input values should\u001b[39m\u001b[38;5;124m\"\u001b[39m\n\u001b[1;32m    542\u001b[0m         \u001b[38;5;124mf\u001b[39m\u001b[38;5;124m\"\u001b[39m\u001b[38;5;124m conform to type hints.\u001b[39m\u001b[38;5;130;01m\\n\u001b[39;00m\u001b[38;5;124m\"\u001b[39m \u001b[38;5;241m+\u001b[39m \u001b[38;5;28mself\u001b[39m\u001b[38;5;241m.\u001b[39mreadiness_report\n\u001b[1;32m    543\u001b[0m     )\n\u001b[1;32m    545\u001b[0m \u001b[38;5;28;01mreturn\u001b[39;00m \u001b[38;5;28mself\u001b[39m\u001b[38;5;241m.\u001b[39m_run(\n\u001b[1;32m    546\u001b[0m     finished_callback\u001b[38;5;241m=\u001b[39m(\n\u001b[1;32m    547\u001b[0m         \u001b[38;5;28mself\u001b[39m\u001b[38;5;241m.\u001b[39m_finish_run_and_emit_ran \u001b[38;5;28;01mif\u001b[39;00m emit_ran_signal \u001b[38;5;28;01melse\u001b[39;00m \u001b[38;5;28mself\u001b[39m\u001b[38;5;241m.\u001b[39m_finish_run\n\u001b[1;32m    548\u001b[0m     ),\n\u001b[1;32m    549\u001b[0m     force_local_execution\u001b[38;5;241m=\u001b[39mforce_local_execution,\n\u001b[1;32m    550\u001b[0m )\n",
      "\u001b[0;31mReadinessError\u001b[0m: YoungsModulus received a run command but is not ready. The node should be neither running nor failed, and all input values should conform to type hints.\nYoungsModulus readiness: False\nSTATE:\nrunning: False\nfailed: False\nINPUTS:\nfilename ready: False\narea ready: False\nstrain_cutoff ready: False"
     ]
    }
   ],
   "source": [
    "nj.run()"
   ]
  },
  {
   "cell_type": "code",
   "execution_count": 40,
   "id": "2d266f61-855f-4d15-a394-d5b0114e83b4",
   "metadata": {},
   "outputs": [
    {
     "data": {
      "text/plain": [
       "188.4145327564868"
      ]
     },
     "execution_count": 40,
     "metadata": {},
     "output_type": "execute_result"
    }
   ],
   "source": [
    "nj.output.result.outputs.youngs_modulus.value"
   ]
  },
  {
   "cell_type": "code",
   "execution_count": 45,
   "id": "bf21a2e7-1dcf-4b36-8cac-d499d3ee0752",
   "metadata": {},
   "outputs": [
    {
     "data": {
      "application/json": {
       "node": "<__main__.YoungsModulus object at 0x7fe315783e50>"
      },
      "text/html": [
       "<pre>DataContainer({\n",
       "  \"node\": \"<__main__.YoungsModulus object at 0x7fe315783e50>\"\n",
       "})</pre>"
      ],
      "text/plain": [
       "DataContainer({'node': <__main__.YoungsModulus object at 0x7fe315783e50>})"
      ]
     },
     "execution_count": 45,
     "metadata": {},
     "output_type": "execute_result"
    }
   ],
   "source": [
    "nj.input"
   ]
  },
  {
   "cell_type": "code",
   "execution_count": 28,
   "id": "4220bad5-a03c-44b6-a720-d3065e6c4942",
   "metadata": {
    "scrolled": true
   },
   "outputs": [
    {
     "name": "stderr",
     "output_type": "stream",
     "text": [
      "/home/menon/miniconda3/envs/pyiron-workflow/lib/python3.11/site-packages/pyiron_workflow/node.py:767: UserWarning: The keyword 'storage_backend' was not found among input labels. If you are trying to update a node keyword, please use attribute assignment directly instead of calling\n",
      "  warnings.warn(\n",
      "/tmp/ipykernel_8287/3791172250.py:4: RankWarning: Polyfit may be poorly conditioned\n",
      "  fit = np.polyfit(strain[:arg], stress[:arg], 1)\n"
     ]
    },
    {
     "ename": "AttributeError",
     "evalue": "DotDict object has no attribute '_working_directory'",
     "output_type": "error",
     "traceback": [
      "\u001b[0;31m---------------------------------------------------------------------------\u001b[0m",
      "\u001b[0;31mKeyError\u001b[0m                                  Traceback (most recent call last)",
      "File \u001b[0;32m~/miniconda3/envs/pyiron-workflow/lib/python3.11/site-packages/pyiron_workflow/snippets/dotdict.py:4\u001b[0m, in \u001b[0;36mDotDict.__getattr__\u001b[0;34m(self, item)\u001b[0m\n\u001b[1;32m      3\u001b[0m \u001b[38;5;28;01mtry\u001b[39;00m:\n\u001b[0;32m----> 4\u001b[0m     \u001b[38;5;28;01mreturn\u001b[39;00m \u001b[38;5;28;43mself\u001b[39;49m\u001b[38;5;241;43m.\u001b[39;49m\u001b[38;5;21;43m__getitem__\u001b[39;49m\u001b[43m(\u001b[49m\u001b[43mitem\u001b[49m\u001b[43m)\u001b[49m\n\u001b[1;32m      5\u001b[0m \u001b[38;5;28;01mexcept\u001b[39;00m \u001b[38;5;167;01mKeyError\u001b[39;00m:\n",
      "\u001b[0;31mKeyError\u001b[0m: '_working_directory'",
      "\nDuring handling of the above exception, another exception occurred:\n",
      "\u001b[0;31mAttributeError\u001b[0m                            Traceback (most recent call last)",
      "Cell \u001b[0;32mIn[28], line 3\u001b[0m\n\u001b[1;32m      1\u001b[0m \u001b[38;5;28;01mfor\u001b[39;00m x \u001b[38;5;129;01min\u001b[39;00m np\u001b[38;5;241m.\u001b[39mlinspace(\u001b[38;5;241m0.05\u001b[39m, \u001b[38;5;241m0.6\u001b[39m, \u001b[38;5;241m50\u001b[39m):\n\u001b[1;32m      2\u001b[0m     job \u001b[38;5;241m=\u001b[39m pr\u001b[38;5;241m.\u001b[39mcreate\u001b[38;5;241m.\u001b[39mjob\u001b[38;5;241m.\u001b[39mNodeJob(\u001b[38;5;124mf\u001b[39m\u001b[38;5;124m'\u001b[39m\u001b[38;5;124mjob_\u001b[39m\u001b[38;5;132;01m{\u001b[39;00mx\u001b[38;5;132;01m}\u001b[39;00m\u001b[38;5;124m'\u001b[39m)\n\u001b[0;32m----> 3\u001b[0m     \u001b[43mjob\u001b[49m\u001b[38;5;241;43m.\u001b[39;49m\u001b[43mnode\u001b[49m \u001b[38;5;241m=\u001b[39m macro(filename\u001b[38;5;241m=\u001b[39m\u001b[38;5;124m'\u001b[39m\u001b[38;5;124mdataset_1.csv\u001b[39m\u001b[38;5;124m'\u001b[39m, area\u001b[38;5;241m=\u001b[39m\u001b[38;5;241m120.636\u001b[39m, strain_cutoff\u001b[38;5;241m=\u001b[39mx, storage_backend\u001b[38;5;241m=\u001b[39m\u001b[38;5;124m\"\u001b[39m\u001b[38;5;124mtinybase\u001b[39m\u001b[38;5;124m\"\u001b[39m)\n\u001b[1;32m      4\u001b[0m     job\u001b[38;5;241m.\u001b[39mrun()\n",
      "File \u001b[0;32m~/miniconda3/envs/pyiron-workflow/lib/python3.11/site-packages/pyiron_workflow/job.py:115\u001b[0m, in \u001b[0;36mNodeJob.node\u001b[0;34m(self, new_node)\u001b[0m\n\u001b[1;32m    113\u001b[0m \u001b[38;5;28;01mif\u001b[39;00m \u001b[38;5;28mself\u001b[39m\u001b[38;5;241m.\u001b[39m_node \u001b[38;5;129;01mis\u001b[39;00m \u001b[38;5;129;01mnot\u001b[39;00m \u001b[38;5;28;01mNone\u001b[39;00m:\n\u001b[1;32m    114\u001b[0m     \u001b[38;5;28;01mraise\u001b[39;00m \u001b[38;5;167;01mValueError\u001b[39;00m(\u001b[38;5;124m\"\u001b[39m\u001b[38;5;124mNode already set, make a new job\u001b[39m\u001b[38;5;124m\"\u001b[39m)\n\u001b[0;32m--> 115\u001b[0m \u001b[38;5;28;01melif\u001b[39;00m \u001b[38;5;28;43mself\u001b[39;49m\u001b[38;5;241;43m.\u001b[39;49m\u001b[43m_node_working_directory_already_there\u001b[49m\u001b[43m(\u001b[49m\u001b[43mnew_node\u001b[49m\u001b[43m)\u001b[49m:\n\u001b[1;32m    116\u001b[0m     \u001b[38;5;28mself\u001b[39m\u001b[38;5;241m.\u001b[39mraise_working_directory_error()\n\u001b[1;32m    117\u001b[0m \u001b[38;5;28;01melse\u001b[39;00m:\n",
      "File \u001b[0;32m~/miniconda3/envs/pyiron-workflow/lib/python3.11/site-packages/pyiron_workflow/job.py:127\u001b[0m, in \u001b[0;36mNodeJob._node_working_directory_already_there\u001b[0;34m(node)\u001b[0m\n\u001b[1;32m    125\u001b[0m \u001b[38;5;129m@staticmethod\u001b[39m\n\u001b[1;32m    126\u001b[0m \u001b[38;5;28;01mdef\u001b[39;00m \u001b[38;5;21m_node_working_directory_already_there\u001b[39m(node):\n\u001b[0;32m--> 127\u001b[0m     \u001b[38;5;28;01mreturn\u001b[39;00m \u001b[43mnode\u001b[49m\u001b[38;5;241;43m.\u001b[39;49m\u001b[43m_working_directory\u001b[49m \u001b[38;5;129;01mis\u001b[39;00m \u001b[38;5;129;01mnot\u001b[39;00m \u001b[38;5;28;01mNone\u001b[39;00m\n",
      "File \u001b[0;32m~/miniconda3/envs/pyiron-workflow/lib/python3.11/site-packages/pyiron_workflow/snippets/dotdict.py:6\u001b[0m, in \u001b[0;36mDotDict.__getattr__\u001b[0;34m(self, item)\u001b[0m\n\u001b[1;32m      4\u001b[0m     \u001b[38;5;28;01mreturn\u001b[39;00m \u001b[38;5;28mself\u001b[39m\u001b[38;5;241m.\u001b[39m\u001b[38;5;21m__getitem__\u001b[39m(item)\n\u001b[1;32m      5\u001b[0m \u001b[38;5;28;01mexcept\u001b[39;00m \u001b[38;5;167;01mKeyError\u001b[39;00m:\n\u001b[0;32m----> 6\u001b[0m     \u001b[38;5;28;01mraise\u001b[39;00m \u001b[38;5;167;01mAttributeError\u001b[39;00m(\n\u001b[1;32m      7\u001b[0m         \u001b[38;5;124mf\u001b[39m\u001b[38;5;124m\"\u001b[39m\u001b[38;5;132;01m{\u001b[39;00m\u001b[38;5;28mself\u001b[39m\u001b[38;5;241m.\u001b[39m\u001b[38;5;18m__class__\u001b[39m\u001b[38;5;241m.\u001b[39m\u001b[38;5;18m__name__\u001b[39m\u001b[38;5;132;01m}\u001b[39;00m\u001b[38;5;124m object has no attribute \u001b[39m\u001b[38;5;124m'\u001b[39m\u001b[38;5;132;01m{\u001b[39;00mitem\u001b[38;5;132;01m}\u001b[39;00m\u001b[38;5;124m'\u001b[39m\u001b[38;5;124m\"\u001b[39m\n\u001b[1;32m      8\u001b[0m     )\n",
      "\u001b[0;31mAttributeError\u001b[0m: DotDict object has no attribute '_working_directory'"
     ]
    }
   ],
   "source": [
    "for x in np.linspace(0.05, 0.6, 50):\n",
    "    job = pr.create.job.NodeJob(f'job_{x}')\n",
    "    job.node = macro(filename='dataset_1.csv', area=120.636, strain_cutoff=x, storage_backend=\"tinybase\")\n",
    "    job.run()"
   ]
  },
  {
   "cell_type": "code",
   "execution_count": null,
   "id": "0f6d558d-85ee-4e8c-aa4b-e1577e6a69ff",
   "metadata": {},
   "outputs": [],
   "source": []
  }
 ],
 "metadata": {
  "kernelspec": {
   "display_name": "Python 3 (ipykernel)",
   "language": "python",
   "name": "python3"
  },
  "language_info": {
   "codemirror_mode": {
    "name": "ipython",
    "version": 3
   },
   "file_extension": ".py",
   "mimetype": "text/x-python",
   "name": "python",
   "nbconvert_exporter": "python",
   "pygments_lexer": "ipython3",
   "version": "3.11.7"
  }
 },
 "nbformat": 4,
 "nbformat_minor": 5
}
