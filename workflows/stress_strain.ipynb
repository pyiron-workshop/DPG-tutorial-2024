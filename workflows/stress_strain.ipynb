{
 "cells": [
  {
   "cell_type": "code",
   "execution_count": 1,
   "id": "39af5d0e-d4e2-409b-83b6-8dc7321d7239",
   "metadata": {},
   "outputs": [],
   "source": [
    "import matplotlib.pyplot as plt\n",
    "import numpy as np\n",
    "import pandas as pd\n",
    "\n",
    "from pyiron_base import Project\n",
    "from pyiron_workflow import Workflow, job"
   ]
  },
  {
   "cell_type": "code",
   "execution_count": 2,
   "id": "4c196f07-bd94-47b3-b596-f1c71eeb0e31",
   "metadata": {},
   "outputs": [],
   "source": [
    "@Workflow.wrap_as.function_node()\n",
    "def ReadInput(filename, area):\n",
    "    \"\"\"\n",
    "    My custom function to read an input file and process it\n",
    "    \"\"\"\n",
    "    df = pd.read_csv(filename, delimiter=\";\", header=[0,1], decimal=',')\n",
    "    df['Stress'] = df['Load']*1000/area\n",
    "    load = df['Load']*1000\n",
    "    strain = df['Extensometer elongation'].values.flatten()\n",
    "    stress = df['Stress'].values.flatten()\n",
    "    return stress, strain"
   ]
  },
  {
   "cell_type": "code",
   "execution_count": 3,
   "id": "95e6d452-0774-4994-bda8-6b156788ec86",
   "metadata": {},
   "outputs": [],
   "source": [
    "@Workflow.wrap_as.function_node()\n",
    "def CalculateYoungsModulus(stress, strain, strain_cutoff=0.2):\n",
    "    arg = np.argsort(np.abs(np.array(strain)-strain_cutoff))[0]\n",
    "    fit = np.polyfit(strain[:arg], stress[:arg], 1)\n",
    "    youngs_modulus = fit[0]*(1/0.01)/1000\n",
    "    return youngs_modulus"
   ]
  },
  {
   "cell_type": "code",
   "execution_count": 4,
   "id": "31cf633c-dc6f-4132-bce1-0edfbb64a723",
   "metadata": {},
   "outputs": [],
   "source": [
    "@Workflow.wrap_as.function_node()\n",
    "def Plot(stress, strain):\n",
    "    plt.plot(strain, stress)\n",
    "    plt.xlabel(\"Strain [%]\");\n",
    "    plt.ylabel(\"Stress [MPa]\");\n",
    "    return 1"
   ]
  },
  {
   "cell_type": "code",
   "execution_count": 5,
   "id": "950da016-0dbe-4211-bf26-531053d3ee52",
   "metadata": {},
   "outputs": [],
   "source": [
    "wf = Workflow(\"youngs_modulus\")\n",
    "wf.read_input = ReadInput()\n",
    "\n",
    "#add keyword args\n",
    "#black formatter\n",
    "\n",
    "wf.youngs_modulus = CalculateYoungsModulus(\n",
    "    wf.read_input.outputs.stress,\n",
    "    wf.read_input.outputs.strain,\n",
    ")\n",
    "\n",
    "wf.plot = Plot(\n",
    "    wf.read_input.outputs.stress,\n",
    "    wf.read_input.outputs.strain\n",
    ")"
   ]
  },
  {
   "cell_type": "code",
   "execution_count": 6,
   "id": "e3108fd5-73b7-4639-9551-d04fa8eb0184",
   "metadata": {},
   "outputs": [
    {
     "data": {
      "text/plain": [
       "{'youngs_modulus__youngs_modulus': 188.4145327564869, 'plot__1': 1}"
      ]
     },
     "execution_count": 6,
     "metadata": {},
     "output_type": "execute_result"
    },
    {
     "data": {
      "image/png": "[encoded data removed]",
      "text/plain": [
       "<Figure size 640x480 with 1 Axes>"
      ]
     },
     "metadata": {},
     "output_type": "display_data"
    }
   ],
   "source": [
    "wf(read_input__filename='dataset_1.csv', read_input__area=120.636)"
   ]
  },
  {
   "cell_type": "code",
   "execution_count": 7,
   "id": "59070602-a311-47bf-8470-e19796b56149",
   "metadata": {},
   "outputs": [],
   "source": [
    "wf.draw();\n",
    "# wf.draw(size=(15,20))"
   ]
  },
  {
   "cell_type": "code",
   "execution_count": 8,
   "id": "c3d279f3-a73b-43c0-be9b-9b26ec43fe83",
   "metadata": {},
   "outputs": [],
   "source": [
    "@Workflow.wrap_as.macro_node(\"youngs_modulus\")\n",
    "def YoungsModulus(wf, filename, area, strain_cutoff):\n",
    "    \"\"\"\n",
    "    The graph constructor a Macro expects must take the macro as its only argument\n",
    "    (i.e. \"self\" from the macro's perspective) and return nothing.\n",
    "    Inside, it should add nodes to the macro, wire their connections, etc.\n",
    "    \"\"\"\n",
    "    wf.read_input = ReadInput(filename, area)\n",
    "    wf.youngs_modulus = CalculateYoungsModulus(\n",
    "        wf.read_input.outputs.stress,\n",
    "        wf.read_input.outputs.strain,\n",
    "        strain_cutoff\n",
    "    )\n",
    "    return wf.youngs_modulus.outputs.youngs_modulus\n",
    "    \n",
    "macro = YoungsModulus()"
   ]
  },
  {
   "cell_type": "code",
   "execution_count": 9,
   "id": "f89ddd29-a87e-4d9c-a01b-320fe9ce160b",
   "metadata": {},
   "outputs": [
    {
     "name": "stderr",
     "output_type": "stream",
     "text": [
      "/Users/huber/work/pyiron/pyiron_workflow/pyiron_workflow/node.py:767: UserWarning: The keyword 'storage_backend' was not found among input labels. If you are trying to update a node keyword, please use attribute assignment directly instead of calling\n",
      "  warnings.warn(\n"
     ]
    },
    {
     "data": {
      "text/plain": [
       "{'youngs_modulus': 188.4145327564869}"
      ]
     },
     "execution_count": 9,
     "metadata": {},
     "output_type": "execute_result"
    }
   ],
   "source": [
    "macro(filename='dataset_1.csv', area=120.636, strain_cutoff=0.2, storage_backend=\"tinybase\")"
   ]
  },
  {
   "cell_type": "code",
   "execution_count": 10,
   "id": "cd57c7fd-ab47-476c-be9a-ddd1f2fa6f92",
   "metadata": {},
   "outputs": [],
   "source": [
    "pr = Project('fgg')"
   ]
  },
  {
   "cell_type": "code",
   "execution_count": 11,
   "id": "880207d9-e71b-4c95-ab4e-34084c46b3f7",
   "metadata": {},
   "outputs": [],
   "source": [
    "nj = pr.create.job.NodeOutputJob(\"youngs_modulus\")\n",
    "nj.input[\"node\"] = macro"
   ]
  },
  {
   "cell_type": "code",
   "execution_count": 12,
   "id": "dc9d49d5-10f0-4df2-b7db-d9beb312edd5",
   "metadata": {},
   "outputs": [
    {
     "data": {
      "application/json": {
       "node": "<__main__.YoungsModulus object at 0x13324dfd0>"
      },
      "text/html": [
       "<pre>DataContainer({\n",
       "  \"node\": \"<__main__.YoungsModulus object at 0x13324dfd0>\"\n",
       "})</pre>"
      ],
      "text/plain": [
       "DataContainer({'node': <__main__.YoungsModulus object at 0x13324dfd0>})"
      ]
     },
     "execution_count": 12,
     "metadata": {},
     "output_type": "execute_result"
    }
   ],
   "source": [
    "nj.input"
   ]
  },
  {
   "cell_type": "code",
   "execution_count": 13,
   "id": "8887105f-36f6-48b6-997a-85a1f2c185e0",
   "metadata": {},
   "outputs": [
    {
     "name": "stdout",
     "output_type": "stream",
     "text": [
      "The job _node_outd4ed14cbb789e4fbd870769e5df44fb1 was saved and received the ID: 9568\n"
     ]
    }
   ],
   "source": [
    "nj.run()"
   ]
  },
  {
   "cell_type": "code",
   "execution_count": 14,
   "id": "2d266f61-855f-4d15-a394-d5b0114e83b4",
   "metadata": {},
   "outputs": [
    {
     "data": {
      "text/plain": [
       "188.4145327564869"
      ]
     },
     "execution_count": 14,
     "metadata": {},
     "output_type": "execute_result"
    }
   ],
   "source": [
    "nj.output.youngs_modulus"
   ]
  },
  {
   "cell_type": "code",
   "execution_count": 15,
   "id": "4220bad5-a03c-44b6-a720-d3065e6c4942",
   "metadata": {
    "scrolled": true
   },
   "outputs": [
    {
     "name": "stdout",
     "output_type": "stream",
     "text": [
      "The job _node_out5278b6c918101ff8a9ddd082aefb67bb was saved and received the ID: 9569\n"
     ]
    },
    {
     "name": "stderr",
     "output_type": "stream",
     "text": [
      "/var/folders/ff/j3764z6n37386m647kqygyzw0000gp/T/ipykernel_57958/1252028215.py:4: RankWarning: Polyfit may be poorly conditioned\n",
      "  fit = np.polyfit(strain[:arg], stress[:arg], 1)\n"
     ]
    },
    {
     "name": "stdout",
     "output_type": "stream",
     "text": [
      "The job _node_out4938188ab7436a2aa076f40d6e840718 was saved and received the ID: 9570\n",
      "The job _node_out61087cc4f3c39cbb8671588f4ef1b5e6 was saved and received the ID: 9571\n",
      "The job _node_out023fa4aa9e6dc62406141ae8533f8ce0 was saved and received the ID: 9572\n",
      "The job _node_out94ffbbab8d3bf7b675d06060929acfac was saved and received the ID: 9573\n",
      "The job _node_out78f82aa6b43e58358b61d946790bf9df was saved and received the ID: 9574\n",
      "The job _node_out300a0585fa5bb0952a893f1ce9d2495f was saved and received the ID: 9575\n",
      "The job _node_out6b28e10e19e02566de55f2cbf1b819a4 was saved and received the ID: 9576\n",
      "The job _node_outeb90f26222b3dc1c34d0eac241f92ff8 was saved and received the ID: 9577\n",
      "The job _node_out337982dddbae11c83f764d26912c36c5 was saved and received the ID: 9578\n",
      "The job _node_outae1b483b8cbde9b5e36a47e4167a69e9 was saved and received the ID: 9579\n",
      "The job _node_out2c7c8b4db92af23dadf00f07f28b0e61 was saved and received the ID: 9580\n"
     ]
    }
   ],
   "source": [
    "for x in np.linspace(0.05, 0.6, 12):\n",
    "    job = pr.create.job.NodeOutputJob(f'job_{x}')\n",
    "    job.input[\"node\"] = YoungsModulus(\n",
    "        filename='dataset_1.csv', \n",
    "        area=120.636, \n",
    "        strain_cutoff=x, \n",
    "    )\n",
    "    job.run()"
   ]
  },
  {
   "cell_type": "code",
   "execution_count": 17,
   "id": "0f6d558d-85ee-4e8c-aa4b-e1577e6a69ff",
   "metadata": {},
   "outputs": [],
   "source": [
    "# pr.remove_jobs(silently=True, recursive=True)"
   ]
  },
  {
   "cell_type": "code",
   "execution_count": null,
   "id": "f32626b9-184d-472b-a341-3176bd45f301",
   "metadata": {},
   "outputs": [],
   "source": []
  }
 ],
 "metadata": {
  "kernelspec": {
   "display_name": "Python 3 (ipykernel)",
   "language": "python",
   "name": "python3"
  },
  "language_info": {
   "codemirror_mode": {
    "name": "ipython",
    "version": 3
   },
   "file_extension": ".py",
   "mimetype": "text/x-python",
   "name": "python",
   "nbconvert_exporter": "python",
   "pygments_lexer": "ipython3",
   "version": "3.11.7"
  }
 },
 "nbformat": 4,
 "nbformat_minor": 5
}
